{
 "cells": [
  {
   "cell_type": "code",
   "execution_count": null,
   "id": "1c6ae10d-6fcf-4a75-8e81-e0a62778bf66",
   "metadata": {},
   "outputs": [],
   "source": [
    "###Files, exceptional handling, logging and memory management Questions############"
   ]
  },
  {
   "cell_type": "code",
   "execution_count": null,
   "id": "2d82a988-779d-4bf2-9021-168b3f860c53",
   "metadata": {},
   "outputs": [],
   "source": [
    "#1. What is the difference between interpreted and compiled languages?\n",
    "#>>Compiled Languages:\n",
    "\n",
    "The source code is translated into machine code by a compiler before execution.\n",
    "\n",
    "This results in an executable file that can be run directly on the computer.\n",
    "\n",
    "Since the translation happens beforehand, compiled programs tend to run faster.\n",
    "\n",
    "Examples include C, C++, Go, Rust.\n",
    "\n",
    "#>>Interpreted Languages:\n",
    "\n",
    "The source code is executed line by line by an interpreter at runtime.\n",
    "\n",
    "This allows for more flexibility and easier debugging but can be slower compared to compiled languages.\n",
    "\n",
    "These languages often don’t require a separate compilation step.\n",
    "\n",
    "Examples include Python, JavaScript, Ruby."
   ]
  },
  {
   "cell_type": "code",
   "execution_count": null,
   "id": "06c89d17-5a54-442c-8b9d-baadc0741209",
   "metadata": {},
   "outputs": [],
   "source": [
    "#2. What is exception handling in Python?\n",
    "#>Exception handling in Python is a way to deal with runtime errors or unexpected\n",
    "situations in your code. Instead of letting the program crash when an error occurs,\n",
    "Python provides a structured approach to handle these errors gracefully."
   ]
  },
  {
   "cell_type": "code",
   "execution_count": null,
   "id": "9ad4ae30-56d9-4828-b67b-b42b1813d5e6",
   "metadata": {},
   "outputs": [],
   "source": [
    "#3. What is the purpose of the finally block in exception handling?\n",
    "#>The finally block in exception handling is used to ensure that specific code always executes, \n",
    "regardless of whether an exception occurs. It's particularly useful for cleanup operations like \n",
    "closing files,releasing resources, or disconnecting from a database."
   ]
  },
  {
   "cell_type": "code",
   "execution_count": null,
   "id": "8111f70b-ed7e-4110-a0fb-5f614161c356",
   "metadata": {},
   "outputs": [],
   "source": [
    "#4.What is logging in Python?\n",
    "#?Logging in Python is a way to track events that happen during the execution of a program.\n",
    "It helps developers debug issues, monitor application behavior, and \n",
    "store important runtime information"
   ]
  },
  {
   "cell_type": "code",
   "execution_count": null,
   "id": "a7eda390-d0c9-4c16-8f6e-bc9a1241627e",
   "metadata": {},
   "outputs": [],
   "source": [
    "#5.What is the significance of the __del__ method in Python?\n",
    "#>he __del__ method in Python is a destructor, called when an object is about to be garbage\n",
    "collected. It allows you to define cleanup actions before an object is destroyed, \n",
    "such as closing files or releasing resources."
   ]
  },
  {
   "cell_type": "code",
   "execution_count": 1,
   "id": "f560885e-cb2e-433e-ab7a-6777a15ea8b6",
   "metadata": {},
   "outputs": [
    {
     "name": "stdout",
     "output_type": "stream",
     "text": [
      "4.0\n",
      "4.0\n"
     ]
    }
   ],
   "source": [
    "#6. What is the difference between import and from ... import in Python?\n",
    "#>1. Using import\n",
    "#Imports the entire module.\n",
    "\n",
    "#You must reference functions or variables using the module name.\n",
    "\n",
    "import math\n",
    "print(math.sqrt(16))  # Accessing sqrt via math.sqrt\n",
    "\n",
    "\n",
    "\n",
    "#2.Using from ... import\n",
    "#Imports specific functions or variables from a module.\n",
    "\n",
    "#You can use them directly without the module name.\n",
    "\n",
    "\n",
    "from math import sqrt\n",
    "print(sqrt(16))  # No need to use math.sqrt\n",
    "\n"
   ]
  },
  {
   "cell_type": "code",
   "execution_count": null,
   "id": "4c596f02-dab2-4f25-afd2-4407ca184d4f",
   "metadata": {},
   "outputs": [],
   "source": [
    "#7.How can you handle multiple exceptions in Python?\n",
    "#>Handling multiple exceptions in Python allows you to catch and respond to different types of\n",
    "errors efficiently. You can do this in several ways:\n",
    "1. Using Multiple except Blocks\n",
    "2. Catching Multiple Exceptions in One Block\n",
    "3. Using a Generic except Block\n",
    "4. Using finally for Cleanup"
   ]
  },
  {
   "cell_type": "code",
   "execution_count": null,
   "id": "399ad280-d0f3-407c-831e-88625384e373",
   "metadata": {},
   "outputs": [],
   "source": [
    "#8. What is the purpose of the with statement when handling files in Python?\n",
    "#>The with statement in Python is used for efficient and safe file handling. \n",
    "It ensures that a file is properly opened and closed, even if an error occurs during execution."
   ]
  },
  {
   "cell_type": "code",
   "execution_count": null,
   "id": "65945402-c452-4802-b125-d75c245c871c",
   "metadata": {},
   "outputs": [],
   "source": [
    "#9. What is the difference between multithreading and multiprocessing?\n",
    "#>1. Multithreading\n",
    "Uses multiple threads within a single process.\n",
    "\n",
    "Threads share the same memory space, making communication between them easier.\n",
    "\n",
    "In Python, due to the Global Interpreter Lock (GIL), multithreading is not ideal for CPU-bound\n",
    "tasks but works well for I/O-bound tasks (e.g., file operations, network requests).\n",
    "\n",
    "#>2. Multiprocessing\n",
    "Uses multiple processes, each with its own memory space.\n",
    "\n",
    "Bypasses the GIL, making it suitable for CPU-bound tasks (e.g., heavy computations).\n",
    "\n",
    "Processes do not share memory, so communication requires inter-process communication (IPC)."
   ]
  },
  {
   "cell_type": "code",
   "execution_count": null,
   "id": "2b647277-c6b7-4ba1-9708-02a49c488292",
   "metadata": {},
   "outputs": [],
   "source": [
    "#10.What are the advantages of using logging in a program?\n",
    "#>Logging in a program offers several advantages, making it an essential tool for debugging, monitoring, and maintaining software efficiently. Here’s why logging is beneficial:\n",
    "\n",
    "1. Debugging & Troubleshooting\n",
    "Helps identify errors and unexpected behavior in a program.\n",
    "\n",
    "Provides detailed insights into what happened before a crash or failure.\n",
    "\n",
    "2. Performance Monitoring\n",
    "Tracks execution time and resource usage.\n",
    "\n",
    "Helps optimize code by identifying bottlenecks.\n",
    "\n",
    "3. Security & Auditing\n",
    "Logs security-related events, such as unauthorized access attempts.\n",
    "\n",
    "Maintains an audit trail for compliance and forensic analysis.\n",
    "\n",
    "4. Application Behavior Tracking\n",
    "Records user interactions and system events.\n",
    "\n",
    "Helps understand usage patterns and improve user experience.\n",
    "\n",
    "5. Error Handling & Recovery\n",
    "Allows graceful handling of failures by logging critical errors.\n",
    "\n",
    "Helps developers anticipate and fix issues before they escalate.\n",
    "\n",
    "6. Centralized Monitoring in Distributed Systems\n",
    "Enables logging across multiple services in cloud-based applications.\n",
    "\n",
    "Supports real-time monitoring and alerting."
   ]
  },
  {
   "cell_type": "code",
   "execution_count": null,
   "id": "da2f16f3-5be7-4b37-85e6-2249cbdb882f",
   "metadata": {},
   "outputs": [],
   "source": [
    "#11. What is memory management in Python?\n",
    "#>Memory management in Python ensures efficient allocation, usage, and deallocation of memory for \n",
    "objects and data structures. Python uses a private heap to store all objects, \n",
    "and its built-in memory manager handles allocation and garbage collection automatically."
   ]
  },
  {
   "cell_type": "code",
   "execution_count": null,
   "id": "974a18ec-b73c-48bb-83a7-b5cff2f9433f",
   "metadata": {},
   "outputs": [],
   "source": [
    "#12. What are the basic steps involved in exception handling in Python?\n",
    "#>Exception handling in Python follows a structured approach to detect,\n",
    "handle, and recover from errors gracefully. Here are the basic steps:\n",
    "1. Use a try Block\n",
    "2. Catch Exceptions with except\n",
    "3. Use else for Code That Runs When No Exception Occurs\n",
    "4. Ensure Cleanup with finally\n",
    "ex.>>>>"
   ]
  },
  {
   "cell_type": "code",
   "execution_count": 2,
   "id": "4d0f19df-8af7-4747-9798-c2c8a279ac69",
   "metadata": {},
   "outputs": [
    {
     "name": "stdin",
     "output_type": "stream",
     "text": [
      "Enter a number:  5\n"
     ]
    },
    {
     "name": "stdout",
     "output_type": "stream",
     "text": [
      "Calculation successful: 2.0\n",
      "Execution completed.\n"
     ]
    }
   ],
   "source": [
    "try:\n",
    "    x = int(input(\"Enter a number: \"))\n",
    "    result = 10 / x\n",
    "except (ZeroDivisionError, ValueError) as e:\n",
    "    print(f\"Error occurred: {e}\")\n",
    "else:\n",
    "    print(\"Calculation successful:\", result)\n",
    "finally:\n",
    "    print(\"Execution completed.\")"
   ]
  },
  {
   "cell_type": "code",
   "execution_count": null,
   "id": "7ffb6934-6ae3-46df-bf32-91a5099b321f",
   "metadata": {},
   "outputs": [],
   "source": [
    "#13. Why is memory management important in Python?\n",
    "#>Memory management is crucial in Python because it directly impacts performance, efficiency, and scalability. Here’s why it matters:\n",
    "\n",
    "1. Optimized Performance\n",
    "Efficient memory usage leads to faster execution.\n",
    "\n",
    "Poor memory management can cause slowdowns and excessive resource consumption.\n",
    "\n",
    "2. Preventing Memory Leaks\n",
    "Python’s garbage collector helps free unused memory.\n",
    "\n",
    "Without proper management, memory leaks can gradually degrade performance.\n",
    "\n",
    "3. Scalability & Resource Efficiency\n",
    "Well-managed memory ensures applications can scale smoothly.\n",
    "\n",
    "In resource-constrained environments (e.g., embedded systems), efficient memory usage is critical.\n",
    "\n",
    "4. Automatic Garbage Collection\n",
    "Python automatically handles memory cleanup using reference counting and cyclic garbage collection.\n",
    "\n",
    "Developers don’t need to manually allocate or free memory, reducing complexity.\n",
    "\n",
    "5. Avoiding Fragmentation\n",
    "Python’s memory manager optimizes allocation, preventing fragmentation.\n",
    "\n",
    "This ensures consistent performance even in long-running applications."
   ]
  },
  {
   "cell_type": "code",
   "execution_count": null,
   "id": "f4cc8f1a-bbaf-43d1-91b9-f0e1bad52dfd",
   "metadata": {},
   "outputs": [],
   "source": [
    "#14. What is the role of try and except in exception handling?\n",
    "#>he try and except blocks in Python are fundamental for exception handling, allowing programs to catch and respond to errors gracefully instead of crashing.\n",
    "\n",
    "Role of try and except\n",
    "1.try Block:\n",
    "\n",
    "Contains code that might raise an exception.\n",
    "\n",
    "If an error occurs, execution jumps to the except block.\n",
    "\n",
    "2.except Block:\n",
    "\n",
    "Handles the exception and prevents abrupt program termination.\n",
    "\n",
    "Can specify different exception types for targeted handling."
   ]
  },
  {
   "cell_type": "code",
   "execution_count": null,
   "id": "222639e1-c4e2-4bbd-881c-4b55ab1ef40f",
   "metadata": {},
   "outputs": [],
   "source": [
    "#15. How does Python's garbage collection system work?\n",
    "#>ython's garbage collection system automatically manages memory by reclaiming unused objects,\n",
    "preventing memory leaks, and optimizing performance. \n",
    "It primarily relies on reference counting and cyclic garbage collection."
   ]
  },
  {
   "cell_type": "code",
   "execution_count": null,
   "id": "4c2630c7-8595-4b02-ae5d-2f9b2b16b711",
   "metadata": {},
   "outputs": [],
   "source": [
    "#16. What is the purpose of the else block in exception handling?\n",
    "#The else block in Python's exception handling is used to execute code only \n",
    "if no exceptions occur in the try block. It helps separate \n",
    "error-handling logic from normal execution, making the code cleaner and more readable.\n",
    "\n",
    "# Purpose of else in Exception Handling\n",
    "Ensures that certain code runs only when no exceptions are raised.\n",
    "\n",
    "Helps keep the try block focused on potentially risky operations.\n",
    "\n",
    "Improves code clarity by distinguishing between error handling (except) and normal execution (else)."
   ]
  },
  {
   "cell_type": "code",
   "execution_count": null,
   "id": "c0690a54-9a59-44a2-80c1-93faeadf956b",
   "metadata": {},
   "outputs": [],
   "source": [
    "#17.What are the common logging levels in Python?\n",
    "#>>\n",
    "Level\t                Description\n",
    "DEBUG\t          Detailed information for diagnosing problems.\n",
    "INFO\t          General information about program execution.\n",
    "WARNING        \t  Indicates potential issues that may not cause immediate failure.\n",
    "ERROR\t          Reports errors that prevent execution of a specific operation.\n",
    "CRITICAL\t      Serious errors that may cause the program to stop entirely."
   ]
  },
  {
   "cell_type": "code",
   "execution_count": null,
   "id": "6fbe7528-3a1a-4545-869e-dababca40695",
   "metadata": {},
   "outputs": [],
   "source": [
    "#18.What is the difference between os.fork() and multiprocessing in Python?\n",
    "#1. os.fork()\n",
    "Creates a child process by duplicating the parent process.\n",
    "\n",
    "The child process inherits the parent's memory space.\n",
    "\n",
    "Works only on Unix-based systems (not available on Windows).\n",
    "\n",
    "Lower-level approach—requires manual management of process communication.\n",
    "\n",
    "#2. multiprocessing Module\n",
    "Provides a higher-level API for process management.\n",
    "\n",
    "Works on both Unix and Windows.\n",
    "\n",
    "Uses inter-process communication (IPC) for data sharing.\n",
    "\n",
    "Bypasses Python’s Global Interpreter Lock (GIL), making it ideal for CPU-bound tasks."
   ]
  },
  {
   "cell_type": "code",
   "execution_count": null,
   "id": "449373c7-9712-4931-b36e-a64f0d6aeb67",
   "metadata": {},
   "outputs": [],
   "source": [
    "#19. What is the importance of closing a file in Python?\n",
    "#>Closing a file in Python is crucial for efficient \n",
    "resource management and preventing potential issues.\n",
    "1. Prevents Resource Leaks\n",
    "2. Ensures Data Integrity\n",
    "3. Avoids File Locking Issues\n",
    "4. Improves Performance"
   ]
  },
  {
   "cell_type": "code",
   "execution_count": null,
   "id": "c4926d11-eb46-4bd7-baa3-9143131e8543",
   "metadata": {},
   "outputs": [],
   "source": [
    "#20. What is the difference between file.read() and file.readline() in Python?\n",
    "1. file.read()\n",
    "Reads the entire file as a single string.\n",
    "\n",
    "You can specify the number of characters to read (file.read(n)).\n",
    "\n",
    "Useful when you need to process the whole file at once.\n",
    "\n",
    "2. file.readline()\n",
    "Reads only one line at a time.\n",
    "\n",
    "Stops reading at the first newline (\\n).\n",
    "\n",
    "Useful for processing files line by line."
   ]
  },
  {
   "cell_type": "code",
   "execution_count": null,
   "id": "156dcaee-45ca-4c55-be05-1562178d5e5b",
   "metadata": {},
   "outputs": [],
   "source": [
    "#21.What is the logging module in Python used for?\n",
    "#>The logging module in Python provides a flexible way to track events \n",
    "that occur during program execution. \n",
    "It helps developers debug, monitor, and maintain applications efficiently.\n",
    "###  Uses of the Logging Module\n",
    "1.Debugging & Troubleshooting\n",
    "\n",
    "Helps identify errors and unexpected behavior.\n",
    "\n",
    "Provides detailed logs for diagnosing issues.\n",
    "\n",
    "2.Performance Monitoring\n",
    "\n",
    "Tracks execution time and resource usage.\n",
    "\n",
    "Helps optimize code by identifying bottlenecks.\n",
    "\n",
    "3.Security & Auditing\n",
    "\n",
    "Logs security-related events, such as unauthorized access attempts.\n",
    "\n",
    "Maintains an audit trail for compliance and forensic analysis.\n",
    "\n",
    "4.Application Behavior Tracking\n",
    "\n",
    "Records user interactions and system events.\n",
    "\n",
    "Helps understand usage patterns and improve user experience.\n",
    "\n",
    "5.Error Handling & Recovery\n",
    "\n",
    "Allows graceful handling of failures by logging critical errors.\n",
    "\n",
    "Helps developers anticipate and fix issues before they escalate.\n"
   ]
  },
  {
   "cell_type": "code",
   "execution_count": null,
   "id": "a2480544-0384-477f-b1af-efd151d18ec3",
   "metadata": {},
   "outputs": [],
   "source": [
    "#22.What is the os module in Python used for in file handling?\n",
    "#>The os module in Python provides functions for interacting with the operating system, \n",
    "including file handling operations like creating, deleting, and managing files and directories.\n",
    "The os module is powerful for system-level file operations, but for higher-level file handling,\n",
    "    Python’s built-in open() function is often more convenient."
   ]
  },
  {
   "cell_type": "code",
   "execution_count": null,
   "id": "c6549ccd-f725-4dd7-88af-b834dfa4ddf0",
   "metadata": {},
   "outputs": [],
   "source": [
    "#23.What are the challenges associated with memory management in Python?\n",
    "#>Memory management in Python is automatic, thanks to its built-in garbage collection system. However, it comes with several challenges that developers need to be aware of:\n",
    "\n",
    "1. Memory Leaks\n",
    "2. Fragmentation\n",
    "3. Global Interpreter Lock (GIL)\n",
    "4. Cyclic References\n",
    "5. High Memory Usage in Large Applications\n",
    "6. Manual Garbage Collection Overhead"
   ]
  },
  {
   "cell_type": "code",
   "execution_count": null,
   "id": "3bca61b0-76aa-4537-9e33-70a486725130",
   "metadata": {},
   "outputs": [],
   "source": [
    "#24. How do you raise an exception manually in Python?\n",
    "#In Python, you can manually raise an exception using the raise statement. \n",
    "This is useful when you want to signal an error condition or enforce specific\n",
    "constraints in your code.\n",
    "# Basic Syntax\n",
    "raise Exception(\"This is a manually raised exception\")\n",
    "    \n",
    "#Raising Specific Exceptions\n",
    " raise ValueError(\"Invalid input provided\")\n",
    "raise TypeError(\"Expected a string, but got an integer\")\n",
    "   \n",
    "#Using raise Inside a Function\n",
    "def divide(x, y):\n",
    "    if y == 0:\n",
    "        raise ZeroDivisionError(\"Cannot divide by zero\")\n",
    "    return x / y\n",
    "\n",
    "try:\n",
    "    result = divide(10, 0)\n",
    "except ZeroDivisionError as e:\n",
    "    print(f\"Error: {e}\")\n",
    "    \n",
    "#Re-raising an Exception\n",
    "try:\n",
    "    x = int(\"abc\")  # This will cause a ValueError\n",
    "except ValueError as e:\n",
    "    print(\"Handling error, but re-raising it...\")\n",
    "    raise\n"
   ]
  },
  {
   "cell_type": "code",
   "execution_count": null,
   "id": "a6949e9d-1569-421a-b74c-a75cdac537de",
   "metadata": {},
   "outputs": [],
   "source": [
    "#25.Why is it important to use multithreading in certain applications?\n",
    "#Multithreading is crucial in certain applications because it allows tasks to run concurrently, \n",
    "improving efficiency and responsiveness. Here’s why it matters:\n",
    "\n",
    "1. Improved Performance\n",
    "Multithreading enables applications to execute multiple tasks simultaneously, reducing overall execution time.\n",
    "\n",
    "Ideal for I/O-bound tasks like file operations, network requests, and database queries.\n",
    "\n",
    "2. Enhanced Responsiveness\n",
    "In GUI applications, multithreading ensures the interface remains responsive while background tasks run.\n",
    "\n",
    "Prevents UI freezing when performing heavy computations.\n",
    "\n",
    "3. Resource Optimization\n",
    "Threads share memory space, reducing overhead compared to multiprocessing.\n",
    "\n",
    "Efficient use of CPU resources, especially in multi-core systems.\n",
    "\n",
    "4. Scalability\n",
    "Helps applications scale to handle increasing workloads.\n",
    "\n",
    "Dividing tasks into smaller threads allows better utilization of system resources.\n",
    "\n",
    "5. Parallel Processing\n",
    "Enables parallel execution of independent tasks, improving efficiency.\n",
    "\n",
    "Useful in real-time applications like gaming, simulations, and financial modeling."
   ]
  },
  {
   "cell_type": "code",
   "execution_count": null,
   "id": "e4f61a3b-3fd6-4bb8-be96-d58ae91943dc",
   "metadata": {},
   "outputs": [],
   "source": [
    "##############Practical Questions############"
   ]
  },
  {
   "cell_type": "code",
   "execution_count": null,
   "id": "5fb7e4ea-a7e6-4544-9241-d057202ae1b6",
   "metadata": {},
   "outputs": [],
   "source": [
    "#1. How can you open a file for writing in Python and write a string to it?\n",
    "#You can open a file for writing in Python using the open() function with the \"w\" mode.\n",
    "This allows you to write data to the file, overwriting any existing content."
   ]
  },
  {
   "cell_type": "code",
   "execution_count": 5,
   "id": "6d7c057a-fed3-4cc5-8c29-1e14ea987bab",
   "metadata": {},
   "outputs": [],
   "source": [
    "Basic Example\n",
    "with open(\"example.txt\", \"w\") as file:\n",
    "    file.write(\"Hello, World!\")\n",
    "    #The \"w\" mode creates the file if it doesn’t exist.\n",
    "\n",
    "#If the file already exists, it overwrites its content.\n",
    "\n",
    "#Using with ensures the file is automatically closed after writing."
   ]
  },
  {
   "cell_type": "code",
   "execution_count": 6,
   "id": "af19e6dc-d894-4987-94ec-acadc082f491",
   "metadata": {},
   "outputs": [],
   "source": [
    "Appending Instead of Overwriting\n",
    "#If you want to add content instead of replacing it, use \"a\" mode:\n",
    "with open(\"example.txt\", \"a\") as file:\n",
    "    file.write(\"\\nAppending new content!\")\n",
    "    "
   ]
  },
  {
   "cell_type": "code",
   "execution_count": null,
   "id": "73d98810-d0dd-47b8-b090-ace88067fc5e",
   "metadata": {},
   "outputs": [],
   "source": [
    "#2.Write a Python program to read the contents of a file and print each line?"
   ]
  },
  {
   "cell_type": "code",
   "execution_count": 7,
   "id": "399b277e-d0bd-4397-9bb9-08199cc0c57d",
   "metadata": {},
   "outputs": [
    {
     "name": "stdout",
     "output_type": "stream",
     "text": [
      "Hello, World!\n",
      "Appending new content!\n"
     ]
    }
   ],
   "source": [
    "with open(\"example.txt\", \"r\") as file:\n",
    "    for line in file:\n",
    "        print(line.strip())  # Removes extra newline characters\n"
   ]
  },
  {
   "cell_type": "code",
   "execution_count": null,
   "id": "52e2038f-0be6-4c09-a76a-df6609678967",
   "metadata": {},
   "outputs": [],
   "source": [
    "#3.How would you handle a case where the file doesn't exist while trying to open it for reading?"
   ]
  },
  {
   "cell_type": "code",
   "execution_count": 8,
   "id": "a0aa7244-5bba-4185-a140-123c2e58ec67",
   "metadata": {},
   "outputs": [
    {
     "name": "stdout",
     "output_type": "stream",
     "text": [
      "Error: The file does not exist.\n"
     ]
    }
   ],
   "source": [
    "#Using try-except to Handle FileNotFoundError\n",
    "try:\n",
    "    with open(\"non_existent_file.txt\", \"r\") as file:\n",
    "        content = file.read()\n",
    "        print(content)\n",
    "except FileNotFoundError:\n",
    "    print(\"Error: The file does not exist.\")\n"
   ]
  },
  {
   "cell_type": "code",
   "execution_count": 9,
   "id": "7e155595-81c3-47f2-8e72-94d8214b81c2",
   "metadata": {},
   "outputs": [
    {
     "name": "stdout",
     "output_type": "stream",
     "text": [
      "Error: The file does not exist.\n"
     ]
    }
   ],
   "source": [
    "#Checking File Existence Before Opening\n",
    "import os\n",
    "\n",
    "file_path = \"non_existent_file.txt\"\n",
    "if os.path.exists(file_path):\n",
    "    with open(file_path, \"r\") as file:\n",
    "        content = file.read()\n",
    "        print(content)\n",
    "else:\n",
    "    print(\"Error: The file does not exist.\")\n"
   ]
  },
  {
   "cell_type": "code",
   "execution_count": null,
   "id": "6440b0da-f355-4208-ac4a-8139e93656f9",
   "metadata": {},
   "outputs": [],
   "source": [
    "#4.Write a Python script that reads from one file and writes its content to another file.\n",
    "#Below is a Python script that reads the entire contents of one file and writes it to another file using context managers. This approach ensures both files are properly closed after use:"
   ]
  },
  {
   "cell_type": "code",
   "execution_count": 53,
   "id": "f9b1a2e9-ec97-482a-b6ee-96575b4840c9",
   "metadata": {},
   "outputs": [
    {
     "name": "stdout",
     "output_type": "stream",
     "text": [
      "Error: The file 'input.txt' does not exist.\n"
     ]
    }
   ],
   "source": [
    "def copy_file_contents(source_file, destination_file):\n",
    "    try:\n",
    "        # Open the source file in read mode and read its content\n",
    "        with open(source_file, 'r') as src:\n",
    "            content = src.read()\n",
    "\n",
    "        # Open the destination file in write mode and write the content\n",
    "        with open(destination_file, 'w') as dst:\n",
    "            dst.write(content)\n",
    "\n",
    "        print(f\"Successfully copied contents from '{source_file}' to '{destination_file}'.\")\n",
    "        \n",
    "    except FileNotFoundError:\n",
    "        print(f\"Error: The file '{source_file}' does not exist.\")\n",
    "    except Exception as e:\n",
    "        print(f\"An unexpected error occurred: {e}\")\n",
    "\n",
    "# Example usage:\n",
    "source = \"input.txt\"\n",
    "destination = \"output.txt\"\n",
    "copy_file_contents(source, destination)\n"
   ]
  },
  {
   "cell_type": "code",
   "execution_count": null,
   "id": "6c6ef6e9-5c0c-48a9-b24d-b68742781d78",
   "metadata": {},
   "outputs": [],
   "source": [
    "#5. How would you catch and handle division by zero error in Python?\n",
    "#In Python, you can handle a division by zero error using a try-except block. \n",
    "The ZeroDivisionError exception is raised when you attempt to divide a number by zero,\n",
    "and you can catch it to prevent your program from crashing."
   ]
  },
  {
   "cell_type": "code",
   "execution_count": 24,
   "id": "98547638-9c73-4401-b6da-8f4f51b99bb7",
   "metadata": {},
   "outputs": [
    {
     "name": "stdout",
     "output_type": "stream",
     "text": [
      "Error: Division by zero is not allowed.\n"
     ]
    }
   ],
   "source": [
    "try:\n",
    "    numerator = 10\n",
    "    denominator = 0\n",
    "    result = numerator / denominator\n",
    "    print(\"Result:\", result)\n",
    "except ZeroDivisionError:\n",
    "    print(\"Error: Division by zero is not allowed.\")\n"
   ]
  },
  {
   "cell_type": "code",
   "execution_count": 26,
   "id": "c03d3c5c-25bf-47fd-bceb-b71ec9838aa4",
   "metadata": {},
   "outputs": [
    {
     "name": "stdout",
     "output_type": "stream",
     "text": [
      "Error: Division by zero is not allowed.\n"
     ]
    }
   ],
   "source": [
    "#6. Write a Python program that logs an error message to a log file when a division by zero exception occurs\n",
    "import logging\n",
    "\n",
    "# Configure logging to write to a file\n",
    "logging.basicConfig(filename='error.log', level=logging.ERROR, \n",
    "                    format='%(asctime)s - %(levelname)s - %(message)s')\n",
    "\n",
    "def divide_numbers(numerator, denominator):\n",
    "    try:\n",
    "        result = numerator / denominator\n",
    "        print(\"Result:\", result)\n",
    "    except ZeroDivisionError:\n",
    "        logging.error(\"Division by zero attempted.\")\n",
    "        print(\"Error: Division by zero is not allowed.\")\n",
    "\n",
    "# Test the function\n",
    "divide_numbers(10, 0)\n"
   ]
  },
  {
   "cell_type": "code",
   "execution_count": null,
   "id": "f1964be8-f52a-4659-aa41-3b19a1543ba4",
   "metadata": {},
   "outputs": [],
   "source": [
    "#7.How do you log information at different levels (INFO, ERROR, WARNING) in Python using the logging module\n",
    "#In Python, the logging module allows you to log messages at different severity levels, making debugging and monitoring easier. The five main logging levels are:\n",
    "\n",
    "DEBUG: Detailed diagnostic messages useful for debugging.\n",
    "\n",
    "INFO: General events that confirm the application is working as expected.\n",
    "\n",
    "WARNING: Indications of potential problems that don't stop execution.\n",
    "\n",
    "ERROR: Issues that prevent some functionality but don’t crash the program.\n",
    "\n",
    "CRITICAL: Serious errors that may cause the application to stop running."
   ]
  },
  {
   "cell_type": "code",
   "execution_count": 27,
   "id": "240be65c-6ce4-40e9-93c9-8c2a45c19647",
   "metadata": {},
   "outputs": [
    {
     "name": "stdout",
     "output_type": "stream",
     "text": [
      "Logging complete. Check 'app.log' for messages.\n"
     ]
    }
   ],
   "source": [
    "import logging\n",
    "\n",
    "# Configure logging\n",
    "logging.basicConfig(filename='app.log', level=logging.DEBUG, \n",
    "                    format='%(asctime)s - %(levelname)s - %(message)s')\n",
    "\n",
    "# Log messages at different levels\n",
    "logging.debug(\"This is a debug message.\")\n",
    "logging.info(\"This is an info message.\")\n",
    "logging.warning(\"This is a warning message.\")\n",
    "logging.error(\"This is an error message.\")\n",
    "logging.critical(\"This is a critical message.\")\n",
    "\n",
    "print(\"Logging complete. Check 'app.log' for messages.\")\n"
   ]
  },
  {
   "cell_type": "code",
   "execution_count": 29,
   "id": "e510140a-897b-4998-8c90-45e9611ac5d3",
   "metadata": {},
   "outputs": [
    {
     "name": "stdout",
     "output_type": "stream",
     "text": [
      "Error: The specified file was not found.\n"
     ]
    }
   ],
   "source": [
    "#8. Write a program to handle a file opening error using exception handling.\n",
    "try:\n",
    "    # Attempt to open a non-existent file\n",
    "    with open(\"non_existent_file.txt\", \"r\") as file:\n",
    "        content = file.read()\n",
    "        print(content)\n",
    "except FileNotFoundError:\n",
    "    print(\"Error: The specified file was not found.\")\n"
   ]
  },
  {
   "cell_type": "code",
   "execution_count": 31,
   "id": "d0c18f96-c17d-4d72-8d0b-a0713b2fe837",
   "metadata": {},
   "outputs": [
    {
     "name": "stdout",
     "output_type": "stream",
     "text": [
      "['Hello, World!\\n', 'Appending new content!']\n",
      "['Hello, World!', 'Appending new content!']\n"
     ]
    }
   ],
   "source": [
    "#9. How can you read a file line by line and store its content in a list in Python?\n",
    "#Using readlines()\n",
    "with open(\"example.txt\", \"r\") as file:\n",
    "    lines = file.readlines()  # Reads all lines into a list\n",
    "    print(lines)\n",
    "#Using a Loop for Memory Efficiency\n",
    "lines = []\n",
    "with open(\"example.txt\", \"r\") as file:\n",
    "    for line in file:\n",
    "        lines.append(line.strip())  # Removes newline characters\n",
    "print(lines)\n"
   ]
  },
  {
   "cell_type": "code",
   "execution_count": null,
   "id": "da0749ec-47bb-4c55-b5f5-bb39e29d86d0",
   "metadata": {},
   "outputs": [],
   "source": [
    "#10.How can you append data to an existing file in Python?\n",
    "#>You can append data to an existing file in Python using the \"a\" mode when opening the file. \n",
    "This ensures that new content is added to the end of the file without overwriting existing data.\n",
    "ex. \n",
    "with open(\"example.txt\", \"a\") as file:\n",
    "    file.write(\"\\nThis is new appended data.\")\n"
   ]
  },
  {
   "cell_type": "code",
   "execution_count": null,
   "id": "75e23ec2-fdb9-4c0b-af7b-8c5e99d7e2b3",
   "metadata": {},
   "outputs": [],
   "source": [
    "#11. Write a Python program that uses a try-except block to handle an error when attempting to access a \n",
    "dictionary key that doesn't exist.\n",
    "\n"
   ]
  },
  {
   "cell_type": "code",
   "execution_count": 34,
   "id": "f3aef0c8-2c57-4be3-a333-1d0432e2735c",
   "metadata": {},
   "outputs": [
    {
     "name": "stdout",
     "output_type": "stream",
     "text": [
      "Error: The specified key does not exist in the dictionary.\n"
     ]
    }
   ],
   "source": [
    "try:\n",
    "    data = {\"name\": \"Abhishek\", \"age\": 25}\n",
    "    print(data[\"city\"])  # Attempting to access a key that doesn't exist\n",
    "except KeyError:\n",
    "    print(\"Error: The specified key does not exist in the dictionary.\")\n"
   ]
  },
  {
   "cell_type": "code",
   "execution_count": null,
   "id": "7d5eb015-3f40-4a7a-8a2f-610fba0c87f6",
   "metadata": {},
   "outputs": [],
   "source": [
    "#12.Write a program that demonstrates using multiple except blocks to handle different types of exceptions.\n"
   ]
  },
  {
   "cell_type": "code",
   "execution_count": 37,
   "id": "32e8ca0f-e56e-496c-ada1-03b785786568",
   "metadata": {},
   "outputs": [
    {
     "name": "stdin",
     "output_type": "stream",
     "text": [
      "Enter a number:  3\n",
      "Enter another number:  2\n"
     ]
    },
    {
     "name": "stdout",
     "output_type": "stream",
     "text": [
      "Result: 1.5\n",
      "Error: List index out of range.\n"
     ]
    }
   ],
   "source": [
    "try:\n",
    "    num1 = int(input(\"Enter a number: \"))\n",
    "    num2 = int(input(\"Enter another number: \"))\n",
    "    result = num1 / num2\n",
    "    print(\"Result:\", result)\n",
    "\n",
    "    my_list = [1, 2, 3]\n",
    "    print(my_list[5])  # IndexError\n",
    "\n",
    "except ZeroDivisionError:\n",
    "    print(\"Error: Division by zero is not allowed.\")\n",
    "\n",
    "except ValueError:\n",
    "    print(\"Error: Invalid input! Please enter a valid number.\")\n",
    "\n",
    "except IndexError:\n",
    "    print(\"Error: List index out of range.\")\n",
    "\n",
    "except Exception as e:\n",
    "    print(f\"An unexpected error occurred: {e}\")\n"
   ]
  },
  {
   "cell_type": "code",
   "execution_count": null,
   "id": "5e84cbc6-ea42-4a1a-a940-0e4a4fa442d8",
   "metadata": {},
   "outputs": [],
   "source": [
    "#13. How would you check if a file exists before attempting to read it in Python?"
   ]
  },
  {
   "cell_type": "code",
   "execution_count": 38,
   "id": "5597ce31-adab-47d7-a30d-8e44475d97ae",
   "metadata": {},
   "outputs": [
    {
     "name": "stdout",
     "output_type": "stream",
     "text": [
      "Hello, World!\n",
      "Appending new content!\n",
      "Hello, World!\n",
      "Appending new content!\n"
     ]
    }
   ],
   "source": [
    "#Using os.path.exists()\n",
    "import os\n",
    "\n",
    "file_path = \"example.txt\"\n",
    "\n",
    "if os.path.exists(file_path):\n",
    "    with open(file_path, \"r\") as file:\n",
    "        content = file.read()\n",
    "        print(content)\n",
    "else:\n",
    "    print(\"Error: File does not exist.\")\n",
    "\n",
    "\n",
    "#Using pathlib.Path.is_file()\n",
    "from pathlib import Path\n",
    "\n",
    "file_path = Path(\"example.txt\")\n",
    "\n",
    "if file_path.is_file():\n",
    "    with file_path.open(\"r\") as file:\n",
    "        content = file.read()\n",
    "        print(content)\n",
    "else:\n",
    "    print(\"Error: File does not exist.\")\n"
   ]
  },
  {
   "cell_type": "code",
   "execution_count": null,
   "id": "cd32d94e-bea8-4fb6-8073-a9e061629149",
   "metadata": {},
   "outputs": [],
   "source": [
    "#14. Write a program that uses the logging module to log both informational and error messages."
   ]
  },
  {
   "cell_type": "code",
   "execution_count": 39,
   "id": "6d3dcdc8-a0c0-4fca-9984-288f0c2a5999",
   "metadata": {},
   "outputs": [
    {
     "name": "stdout",
     "output_type": "stream",
     "text": [
      "Logging complete. Check 'app.log' for messages.\n"
     ]
    }
   ],
   "source": [
    "import logging\n",
    "\n",
    "# Configure logging\n",
    "logging.basicConfig(filename='app.log', level=logging.DEBUG, \n",
    "                    format='%(asctime)s - %(levelname)s - %(message)s')\n",
    "\n",
    "def divide_numbers(numerator, denominator):\n",
    "    try:\n",
    "        logging.info(f\"Attempting to divide {numerator} by {denominator}\")\n",
    "        result = numerator / denominator\n",
    "        logging.info(f\"Division successful: {result}\")\n",
    "        return result\n",
    "    except ZeroDivisionError:\n",
    "        logging.error(\"Error: Division by zero attempted.\")\n",
    "        return None\n",
    "\n",
    "# Example usage\n",
    "divide_numbers(10, 2)  # Successful division\n",
    "divide_numbers(10, 0)  # Error case\n",
    "\n",
    "print(\"Logging complete. Check 'app.log' for messages.\")\n"
   ]
  },
  {
   "cell_type": "code",
   "execution_count": null,
   "id": "045c0cc8-cc50-45f4-abd0-c5473ce5e292",
   "metadata": {},
   "outputs": [],
   "source": [
    "#15. Write a Python program that prints the content of a file and handles the case when the file is empty.\n"
   ]
  },
  {
   "cell_type": "code",
   "execution_count": 40,
   "id": "c8de215b-b607-47c4-b042-21b0e55a8af1",
   "metadata": {},
   "outputs": [
    {
     "name": "stdout",
     "output_type": "stream",
     "text": [
      "File Content:\n",
      " Hello, World!\n",
      "Appending new content!\n"
     ]
    }
   ],
   "source": [
    "import os\n",
    "\n",
    "def read_file(file_path):\n",
    "    try:\n",
    "        if os.path.exists(file_path):\n",
    "            with open(file_path, \"r\") as file:\n",
    "                content = file.read()\n",
    "                if content.strip():  # Check if file is not empty\n",
    "                    print(\"File Content:\\n\", content)\n",
    "                else:\n",
    "                    print(\"Error: The file is empty.\")\n",
    "        else:\n",
    "            print(\"Error: File does not exist.\")\n",
    "    except Exception as e:\n",
    "        print(f\"An unexpected error occurred: {e}\")\n",
    "\n",
    "# Example usage\n",
    "file_path = \"example.txt\"\n",
    "read_file(file_path)\n"
   ]
  },
  {
   "cell_type": "code",
   "execution_count": null,
   "id": "89e16add-6123-4e79-89ea-50d6051bf131",
   "metadata": {},
   "outputs": [],
   "source": [
    "#16. Demonstrate how to use memory profiling to check the memory usage of a small program.\n"
   ]
  },
  {
   "cell_type": "code",
   "execution_count": null,
   "id": "3db0d2d7-f620-448a-b584-83e2f0a4a887",
   "metadata": {},
   "outputs": [],
   "source": [
    "\n",
    "pip install memory_profiler\n",
    "\n",
    "from memory_profiler import profile\n",
    "\n",
    "@profile\n",
    "def my_function():\n",
    "    data = [i for i in range(100000)]  # Creates a large list\n",
    "    return sum(data)\n",
    "\n",
    "if __name__ == \"__main__\":\n",
    "    my_function()\n"
   ]
  },
  {
   "cell_type": "code",
   "execution_count": null,
   "id": "f79d05c6-57f7-4ae9-ac3d-b6015acebfa6",
   "metadata": {},
   "outputs": [],
   "source": [
    "#17. Write a Python program to create and write a list of numbers to a file, one number per line\n"
   ]
  },
  {
   "cell_type": "code",
   "execution_count": 44,
   "id": "70212b77-e17d-487d-943f-cddd5132f1bd",
   "metadata": {},
   "outputs": [
    {
     "name": "stdout",
     "output_type": "stream",
     "text": [
      "Numbers have been written to numbers.txt\n"
     ]
    }
   ],
   "source": [
    "# Define the list of numbers\n",
    "numbers = [1, 2, 3, 4, 5, 6, 7, 8, 9, 10]\n",
    "\n",
    "# Specify the file name\n",
    "file_name = 'numbers.txt'\n",
    "\n",
    "# Open the file in write mode\n",
    "with open(file_name, 'w') as file:\n",
    "    # Write each number to the file, one per line\n",
    "    for number in numbers:\n",
    "        file.write(f\"{number}\\n\")\n",
    "\n",
    "print(f\"Numbers have been written to {file_name}\")\n"
   ]
  },
  {
   "cell_type": "code",
   "execution_count": null,
   "id": "039f83f8-86aa-471f-a072-db74e6f529c4",
   "metadata": {},
   "outputs": [],
   "source": [
    "#18. How would you implement a basic logging setup that logs to a file with rotation after 1MB?\n"
   ]
  },
  {
   "cell_type": "code",
   "execution_count": 47,
   "id": "ea768760-6aaa-49f6-b36f-a465c768a71c",
   "metadata": {},
   "outputs": [
    {
     "name": "stderr",
     "output_type": "stream",
     "text": [
      "--- Logging error ---\n",
      "Traceback (most recent call last):\n",
      "  File \"C:\\ProgramData\\anaconda3\\Lib\\logging\\handlers.py\", line 74, in emit\n",
      "    self.doRollover()\n",
      "  File \"C:\\ProgramData\\anaconda3\\Lib\\logging\\handlers.py\", line 179, in doRollover\n",
      "    self.rotate(self.baseFilename, dfn)\n",
      "  File \"C:\\ProgramData\\anaconda3\\Lib\\logging\\handlers.py\", line 115, in rotate\n",
      "    os.rename(source, dest)\n",
      "PermissionError: [WinError 32] The process cannot access the file because it is being used by another process: 'C:\\\\Users\\\\abhis\\\\app.log' -> 'C:\\\\Users\\\\abhis\\\\app.log.1'\n",
      "Call stack:\n",
      "  File \"<frozen runpy>\", line 198, in _run_module_as_main\n",
      "  File \"<frozen runpy>\", line 88, in _run_code\n",
      "  File \"C:\\ProgramData\\anaconda3\\Lib\\site-packages\\ipykernel_launcher.py\", line 17, in <module>\n",
      "    app.launch_new_instance()\n",
      "  File \"C:\\ProgramData\\anaconda3\\Lib\\site-packages\\traitlets\\config\\application.py\", line 1075, in launch_instance\n",
      "    app.start()\n",
      "  File \"C:\\ProgramData\\anaconda3\\Lib\\site-packages\\ipykernel\\kernelapp.py\", line 701, in start\n",
      "    self.io_loop.start()\n",
      "  File \"C:\\ProgramData\\anaconda3\\Lib\\site-packages\\tornado\\platform\\asyncio.py\", line 205, in start\n",
      "    self.asyncio_loop.run_forever()\n",
      "  File \"C:\\ProgramData\\anaconda3\\Lib\\asyncio\\windows_events.py\", line 322, in run_forever\n",
      "    super().run_forever()\n",
      "  File \"C:\\ProgramData\\anaconda3\\Lib\\asyncio\\base_events.py\", line 641, in run_forever\n",
      "    self._run_once()\n",
      "  File \"C:\\ProgramData\\anaconda3\\Lib\\asyncio\\base_events.py\", line 1986, in _run_once\n",
      "    handle._run()\n",
      "  File \"C:\\ProgramData\\anaconda3\\Lib\\asyncio\\events.py\", line 88, in _run\n",
      "    self._context.run(self._callback, *self._args)\n",
      "  File \"C:\\ProgramData\\anaconda3\\Lib\\site-packages\\ipykernel\\kernelbase.py\", line 534, in dispatch_queue\n",
      "    await self.process_one()\n",
      "  File \"C:\\ProgramData\\anaconda3\\Lib\\site-packages\\ipykernel\\kernelbase.py\", line 523, in process_one\n",
      "    await dispatch(*args)\n",
      "  File \"C:\\ProgramData\\anaconda3\\Lib\\site-packages\\ipykernel\\kernelbase.py\", line 429, in dispatch_shell\n",
      "    await result\n",
      "  File \"C:\\ProgramData\\anaconda3\\Lib\\site-packages\\ipykernel\\kernelbase.py\", line 767, in execute_request\n",
      "    reply_content = await reply_content\n",
      "  File \"C:\\ProgramData\\anaconda3\\Lib\\site-packages\\ipykernel\\ipkernel.py\", line 429, in do_execute\n",
      "    res = shell.run_cell(\n",
      "  File \"C:\\ProgramData\\anaconda3\\Lib\\site-packages\\ipykernel\\zmqshell.py\", line 549, in run_cell\n",
      "    return super().run_cell(*args, **kwargs)\n",
      "  File \"C:\\ProgramData\\anaconda3\\Lib\\site-packages\\IPython\\core\\interactiveshell.py\", line 3075, in run_cell\n",
      "    result = self._run_cell(\n",
      "  File \"C:\\ProgramData\\anaconda3\\Lib\\site-packages\\IPython\\core\\interactiveshell.py\", line 3130, in _run_cell\n",
      "    result = runner(coro)\n",
      "  File \"C:\\ProgramData\\anaconda3\\Lib\\site-packages\\IPython\\core\\async_helpers.py\", line 128, in _pseudo_sync_runner\n",
      "    coro.send(None)\n",
      "  File \"C:\\ProgramData\\anaconda3\\Lib\\site-packages\\IPython\\core\\interactiveshell.py\", line 3334, in run_cell_async\n",
      "    has_raised = await self.run_ast_nodes(code_ast.body, cell_name,\n",
      "  File \"C:\\ProgramData\\anaconda3\\Lib\\site-packages\\IPython\\core\\interactiveshell.py\", line 3517, in run_ast_nodes\n",
      "    if await self.run_code(code, result, async_=asy):\n",
      "  File \"C:\\ProgramData\\anaconda3\\Lib\\site-packages\\IPython\\core\\interactiveshell.py\", line 3577, in run_code\n",
      "    exec(code_obj, self.user_global_ns, self.user_ns)\n",
      "  File \"C:\\Users\\abhis\\AppData\\Local\\Temp\\ipykernel_21476\\3007239873.py\", line 14, in <module>\n",
      "    logger.info(f\"Log entry {i}\")\n",
      "Message: 'Log entry 3652'\n",
      "Arguments: ()\n",
      "--- Logging error ---\n",
      "Traceback (most recent call last):\n",
      "  File \"C:\\ProgramData\\anaconda3\\Lib\\logging\\handlers.py\", line 74, in emit\n",
      "    self.doRollover()\n",
      "  File \"C:\\ProgramData\\anaconda3\\Lib\\logging\\handlers.py\", line 179, in doRollover\n",
      "    self.rotate(self.baseFilename, dfn)\n",
      "  File \"C:\\ProgramData\\anaconda3\\Lib\\logging\\handlers.py\", line 115, in rotate\n",
      "    os.rename(source, dest)\n",
      "PermissionError: [WinError 32] The process cannot access the file because it is being used by another process: 'C:\\\\Users\\\\abhis\\\\app.log' -> 'C:\\\\Users\\\\abhis\\\\app.log.1'\n",
      "Call stack:\n",
      "  File \"<frozen runpy>\", line 198, in _run_module_as_main\n",
      "  File \"<frozen runpy>\", line 88, in _run_code\n",
      "  File \"C:\\ProgramData\\anaconda3\\Lib\\site-packages\\ipykernel_launcher.py\", line 17, in <module>\n",
      "    app.launch_new_instance()\n",
      "  File \"C:\\ProgramData\\anaconda3\\Lib\\site-packages\\traitlets\\config\\application.py\", line 1075, in launch_instance\n",
      "    app.start()\n",
      "  File \"C:\\ProgramData\\anaconda3\\Lib\\site-packages\\ipykernel\\kernelapp.py\", line 701, in start\n",
      "    self.io_loop.start()\n",
      "  File \"C:\\ProgramData\\anaconda3\\Lib\\site-packages\\tornado\\platform\\asyncio.py\", line 205, in start\n",
      "    self.asyncio_loop.run_forever()\n",
      "  File \"C:\\ProgramData\\anaconda3\\Lib\\asyncio\\windows_events.py\", line 322, in run_forever\n",
      "    super().run_forever()\n",
      "  File \"C:\\ProgramData\\anaconda3\\Lib\\asyncio\\base_events.py\", line 641, in run_forever\n",
      "    self._run_once()\n",
      "  File \"C:\\ProgramData\\anaconda3\\Lib\\asyncio\\base_events.py\", line 1986, in _run_once\n",
      "    handle._run()\n",
      "  File \"C:\\ProgramData\\anaconda3\\Lib\\asyncio\\events.py\", line 88, in _run\n",
      "    self._context.run(self._callback, *self._args)\n",
      "  File \"C:\\ProgramData\\anaconda3\\Lib\\site-packages\\ipykernel\\kernelbase.py\", line 534, in dispatch_queue\n",
      "    await self.process_one()\n",
      "  File \"C:\\ProgramData\\anaconda3\\Lib\\site-packages\\ipykernel\\kernelbase.py\", line 523, in process_one\n",
      "    await dispatch(*args)\n",
      "  File \"C:\\ProgramData\\anaconda3\\Lib\\site-packages\\ipykernel\\kernelbase.py\", line 429, in dispatch_shell\n",
      "    await result\n",
      "  File \"C:\\ProgramData\\anaconda3\\Lib\\site-packages\\ipykernel\\kernelbase.py\", line 767, in execute_request\n",
      "    reply_content = await reply_content\n",
      "  File \"C:\\ProgramData\\anaconda3\\Lib\\site-packages\\ipykernel\\ipkernel.py\", line 429, in do_execute\n",
      "    res = shell.run_cell(\n",
      "  File \"C:\\ProgramData\\anaconda3\\Lib\\site-packages\\ipykernel\\zmqshell.py\", line 549, in run_cell\n",
      "    return super().run_cell(*args, **kwargs)\n",
      "  File \"C:\\ProgramData\\anaconda3\\Lib\\site-packages\\IPython\\core\\interactiveshell.py\", line 3075, in run_cell\n",
      "    result = self._run_cell(\n",
      "  File \"C:\\ProgramData\\anaconda3\\Lib\\site-packages\\IPython\\core\\interactiveshell.py\", line 3130, in _run_cell\n",
      "    result = runner(coro)\n",
      "  File \"C:\\ProgramData\\anaconda3\\Lib\\site-packages\\IPython\\core\\async_helpers.py\", line 128, in _pseudo_sync_runner\n",
      "    coro.send(None)\n",
      "  File \"C:\\ProgramData\\anaconda3\\Lib\\site-packages\\IPython\\core\\interactiveshell.py\", line 3334, in run_cell_async\n",
      "    has_raised = await self.run_ast_nodes(code_ast.body, cell_name,\n",
      "  File \"C:\\ProgramData\\anaconda3\\Lib\\site-packages\\IPython\\core\\interactiveshell.py\", line 3517, in run_ast_nodes\n",
      "    if await self.run_code(code, result, async_=asy):\n",
      "  File \"C:\\ProgramData\\anaconda3\\Lib\\site-packages\\IPython\\core\\interactiveshell.py\", line 3577, in run_code\n",
      "    exec(code_obj, self.user_global_ns, self.user_ns)\n",
      "  File \"C:\\Users\\abhis\\AppData\\Local\\Temp\\ipykernel_21476\\3007239873.py\", line 14, in <module>\n",
      "    logger.info(f\"Log entry {i}\")\n",
      "Message: 'Log entry 3652'\n",
      "Arguments: ()\n"
     ]
    },
    {
     "name": "stdout",
     "output_type": "stream",
     "text": [
      "Logging setup complete. Check 'app.log' and rotated logs.\n"
     ]
    }
   ],
   "source": [
    "import logging\n",
    "from logging.handlers import RotatingFileHandler\n",
    "\n",
    "# Configure logging with rotation\n",
    "log_handler = RotatingFileHandler(\"app.log\", maxBytes=1_000_000, backupCount=3)\n",
    "log_handler.setFormatter(logging.Formatter(\"%(asctime)s - %(levelname)s - %(message)s\"))\n",
    "\n",
    "logger = logging.getLogger(\"RotatingLogger\")\n",
    "logger.setLevel(logging.DEBUG)\n",
    "logger.addHandler(log_handler)\n",
    "\n",
    "# Example log messages\n",
    "for i in range(10000):\n",
    "    logger.info(f\"Log entry {i}\")\n",
    "\n",
    "print(\"Logging setup complete. Check 'app.log' and rotated logs.\")\n"
   ]
  },
  {
   "cell_type": "code",
   "execution_count": null,
   "id": "342eff66-eac6-4c79-b88f-1702cc567e39",
   "metadata": {},
   "outputs": [],
   "source": [
    "# 19.Write a program that handles both IndexError and KeyError using a try-except block\n"
   ]
  },
  {
   "cell_type": "code",
   "execution_count": 48,
   "id": "d322c9a2-b590-44e0-a955-73ad85331fc4",
   "metadata": {},
   "outputs": [
    {
     "name": "stdout",
     "output_type": "stream",
     "text": [
      "Error: List index out of range.\n"
     ]
    }
   ],
   "source": [
    "\n",
    "try:\n",
    "    # Attempting to access an invalid index in a list\n",
    "    my_list = [1, 2, 3]\n",
    "    print(my_list[5])  # IndexError\n",
    "\n",
    "    # Attempting to access a non-existent key in a dictionary\n",
    "    my_dict = {\"name\": \"Abhishek\", \"age\": 25}\n",
    "    print(my_dict[\"city\"])  # KeyError\n",
    "\n",
    "except IndexError:\n",
    "    print(\"Error: List index out of range.\")\n",
    "\n",
    "except KeyError:\n",
    "    print(\"Error: The specified key does not exist in the dictionary.\")\n",
    "\n",
    "except Exception as e:\n",
    "    print(f\"An unexpected error occurred: {e}\")\n"
   ]
  },
  {
   "cell_type": "code",
   "execution_count": 49,
   "id": "9f84e33e-7fba-4e94-ac6a-cea305501715",
   "metadata": {},
   "outputs": [
    {
     "name": "stdout",
     "output_type": "stream",
     "text": [
      "Hello, World!\n",
      "Appending new content!\n"
     ]
    }
   ],
   "source": [
    "#20. How would you open a file and read its contents using a context manager in Python?\n",
    "\n",
    "with open(\"example.txt\", \"r\") as file:\n",
    "    content = file.read()\n",
    "    print(content)\n"
   ]
  },
  {
   "cell_type": "code",
   "execution_count": null,
   "id": "d9b1f72e-36fb-407c-869d-cea7b7d9c682",
   "metadata": {},
   "outputs": [],
   "source": [
    "#21. Write a Python program that reads a file and prints the number of occurrences of a specific word\n"
   ]
  },
  {
   "cell_type": "code",
   "execution_count": 50,
   "id": "eb776c67-d0ec-46c4-afd9-5a1180100f9d",
   "metadata": {},
   "outputs": [
    {
     "name": "stdout",
     "output_type": "stream",
     "text": [
      "The word 'Python' appears 0 times in the file.\n"
     ]
    }
   ],
   "source": [
    "def count_word_occurrences(file_path, target_word):\n",
    "    try:\n",
    "        with open(file_path, \"r\") as file:\n",
    "            content = file.read().lower()  # Convert to lowercase for case-insensitive matching\n",
    "            word_count = content.split().count(target_word.lower())\n",
    "            print(f\"The word '{target_word}' appears {word_count} times in the file.\")\n",
    "    except FileNotFoundError:\n",
    "        print(\"Error: The specified file does not exist.\")\n",
    "    except Exception as e:\n",
    "        print(f\"An unexpected error occurred: {e}\")\n",
    "\n",
    "# Example usage\n",
    "file_path = \"example.txt\"\n",
    "target_word = \"Python\"\n",
    "count_word_occurrences(file_path, target_word)\n"
   ]
  },
  {
   "cell_type": "code",
   "execution_count": null,
   "id": "c383631d-8cae-4112-990c-b58f9e6fa423",
   "metadata": {},
   "outputs": [],
   "source": [
    "#22. How can you check if a file is empty before attempting to read its contents?\n"
   ]
  },
  {
   "cell_type": "code",
   "execution_count": 51,
   "id": "97d95b0e-bdce-444c-81ec-4c8677895f8c",
   "metadata": {},
   "outputs": [
    {
     "name": "stdout",
     "output_type": "stream",
     "text": [
      "Hello, World!\n",
      "Appending new content!\n"
     ]
    }
   ],
   "source": [
    "import os\n",
    "\n",
    "file_path = \"example.txt\"\n",
    "\n",
    "if os.path.exists(file_path) and os.path.getsize(file_path) == 0:\n",
    "    print(\"Error: The file is empty.\")\n",
    "else:\n",
    "    with open(file_path, \"r\") as file:\n",
    "        content = file.read()\n",
    "        print(content)\n"
   ]
  },
  {
   "cell_type": "code",
   "execution_count": null,
   "id": "3a88d66b-81e5-4a1b-bbf2-92059d78800f",
   "metadata": {},
   "outputs": [],
   "source": [
    "#23.Write a Python program that writes to a log file when an error occurs during file handling."
   ]
  },
  {
   "cell_type": "code",
   "execution_count": 52,
   "id": "fb772a3b-6eb3-4057-a28b-7a5864378a06",
   "metadata": {},
   "outputs": [
    {
     "name": "stdout",
     "output_type": "stream",
     "text": [
      "Error: The specified file does not exist.\n",
      "Check 'file_errors.log' for logged errors.\n"
     ]
    }
   ],
   "source": [
    "import logging\n",
    "\n",
    "# Configure logging to write errors to a file\n",
    "logging.basicConfig(filename='file_errors.log', level=logging.ERROR, \n",
    "                    format='%(asctime)s - %(levelname)s - %(message)s')\n",
    "\n",
    "def read_file(file_path):\n",
    "    try:\n",
    "        with open(file_path, \"r\") as file:\n",
    "            content = file.read()\n",
    "            print(content)\n",
    "    except FileNotFoundError:\n",
    "        logging.error(f\"Error: The file '{file_path}' was not found.\")\n",
    "        print(\"Error: The specified file does not exist.\")\n",
    "    except Exception as e:\n",
    "        logging.error(f\"Unexpected error: {e}\")\n",
    "        print(f\"An unexpected error occurred: {e}\")\n",
    "\n",
    "# Example usage\n",
    "read_file(\"non_existent_file.txt\")\n",
    "\n",
    "print(\"Check 'file_errors.log' for logged errors.\")\n"
   ]
  },
  {
   "cell_type": "code",
   "execution_count": null,
   "id": "611c2ded-a502-4704-a06f-9d26fb291c16",
   "metadata": {},
   "outputs": [],
   "source": []
  },
  {
   "cell_type": "code",
   "execution_count": null,
   "id": "8464e696-5fef-4425-a8f4-dd5c18632e4d",
   "metadata": {},
   "outputs": [],
   "source": []
  },
  {
   "cell_type": "code",
   "execution_count": null,
   "id": "6d663da6-13fb-4c2b-98ad-8bc78287e0f3",
   "metadata": {},
   "outputs": [],
   "source": []
  },
  {
   "cell_type": "code",
   "execution_count": null,
   "id": "84d427c9-8fd9-470c-ad93-eb2e32dd4447",
   "metadata": {},
   "outputs": [],
   "source": []
  }
 ],
 "metadata": {
  "kernelspec": {
   "display_name": "Python 3 (ipykernel)",
   "language": "python",
   "name": "python3"
  },
  "language_info": {
   "codemirror_mode": {
    "name": "ipython",
    "version": 3
   },
   "file_extension": ".py",
   "mimetype": "text/x-python",
   "name": "python",
   "nbconvert_exporter": "python",
   "pygments_lexer": "ipython3",
   "version": "3.12.7"
  }
 },
 "nbformat": 4,
 "nbformat_minor": 5
}
