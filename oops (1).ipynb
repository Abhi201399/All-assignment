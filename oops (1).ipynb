{
 "cells": [
  {
   "cell_type": "code",
   "execution_count": null,
   "id": "85ac1271-9fb3-4a0e-a3d2-3540ce05c398",
   "metadata": {},
   "outputs": [],
   "source": [
    "                                                          ###############Python OOPs Questions###############"
   ]
  },
  {
   "cell_type": "code",
   "execution_count": null,
   "id": "55338add-8a6f-4d06-bba3-6adc0bd6e3fe",
   "metadata": {},
   "outputs": [],
   "source": [
    "#1. What is Object-Oriented Programming (OOP)?\n",
    "\n",
    "#>>Object-Oriented Programming (OOP) is a programming paradigm that organizes software design around objects rather than functions and logic.\n",
    "   It provides a way to structure and model data in a way that mirrors real-world entities."
   ]
  },
  {
   "cell_type": "code",
   "execution_count": null,
   "id": "2626f2df-6130-4a68-9d15-32c8f6ac34c3",
   "metadata": {},
   "outputs": [],
   "source": [
    "#2.  What is a class in OOP?\n",
    "\n",
    "#>>A class in Object-Oriented Programming (OOP) is a blueprint for creating objects. It defines attributes (variables) and methods (functions) that \n",
    "    describe the behavior and properties of those objects. \n",
    "    Think of it as a template that allows you to create multiple instances (objects) with shared characteristics."
   ]
  },
  {
   "cell_type": "code",
   "execution_count": null,
   "id": "d04fe974-435c-44b7-be89-08c63b410775",
   "metadata": {},
   "outputs": [],
   "source": [
    "#3. What is an object in OOP?\n",
    "#>An object in Object-Oriented Programming (OOP) is an instance of a class. It represents a specific entity with its own unique data and behavior. \n",
    "   Objects are what actually interact in a program—each one has attributes (properties) and methods (actions) defined by its class."
   ]
  },
  {
   "cell_type": "code",
   "execution_count": null,
   "id": "f42d9118-e7ef-4a81-9283-947d530b5a2c",
   "metadata": {},
   "outputs": [],
   "source": [
    "#4.What is the difference between abstraction and encapsulation?\n",
    "#>\n",
    "\n",
    "Feature                            \tAbstraction                           \t                                                 Encapsulation\n",
    "\n",
    "Definition\t               Hides implementation details and shows only the necessary functionalities\t             Restricts access to certain data and methods to protect integrity\n",
    "Purpose                \t   Focuses on simplifying complex systems by exposing only relevant parts\t                 Ensures data security and prevents unintended modifications\n",
    "Implementation\t           Achieved using abstract classes and interfaces\t                                         Achieved using access modifiers (private, protected, public)\n",
    "Example\t                   A Vehicle class with a move() method—users don’t need to know how the engine works\t     A BankAccount class where balance is private and modified only through methods"
   ]
  },
  {
   "cell_type": "code",
   "execution_count": null,
   "id": "f3845adc-5151-4dd6-b5e1-864ea14d8f13",
   "metadata": {},
   "outputs": [],
   "source": [
    "#5.What are dunder methods in Python?\n",
    "#>>Dunder methods, short for \"double underscore\" methods, are special methods in Python that start and \n",
    "end with double underscores, like __init__, __str__, and __add__.\n",
    "These methods allow you to define how objects interact with built-in Python operations, making your classes more intuitive and powerful."
   ]
  },
  {
   "cell_type": "code",
   "execution_count": null,
   "id": "8e253aa7-82c6-4490-bb72-57c1e9bee525",
   "metadata": {},
   "outputs": [],
   "source": [
    "#6. Explain the concept of inheritance in OOP.\n",
    "##>Inheritance is a fundamental concept in Object-Oriented Programming (OOP) that allows a class (child class) to \n",
    "derive properties and behaviors from another class (parent class).\n",
    "It promotes code reusability, hierarchical relationships, and modularity in software design."
   ]
  },
  {
   "cell_type": "code",
   "execution_count": 1,
   "id": "7c8d70b8-413e-4a15-9bc5-d62508f6349d",
   "metadata": {},
   "outputs": [
    {
     "name": "stdout",
     "output_type": "stream",
     "text": [
      "I make a sound.\n",
      "Buddy barks.\n"
     ]
    }
   ],
   "source": [
    "class Animal:  # Parent class\n",
    "    def __init__(self, name):\n",
    "        self.name = name\n",
    "    \n",
    "    def speak(self):\n",
    "        return \"I make a sound.\"\n",
    "\n",
    "class Dog(Animal):  # Child class inheriting from Animal\n",
    "    def speak(self):  # Overriding the method\n",
    "        return f\"{self.name} barks.\"\n",
    "\n",
    "# Creating objects\n",
    "animal = Animal(\"Generic Animal\")\n",
    "dog = Dog(\"Buddy\")\n",
    "\n",
    "print(animal.speak()) \n",
    "print(dog.speak())  "
   ]
  },
  {
   "cell_type": "code",
   "execution_count": null,
   "id": "9d33529d-2cb9-404e-b26a-a6fb26cf96b7",
   "metadata": {},
   "outputs": [],
   "source": [
    "#7. What is polymorphism in OOP?\n",
    "#>Polymorphism is a core concept in Object-Oriented Programming (OOP) that allows objects of different classes \n",
    "to be treated as objects of a common superclass.\n",
    "It enables a single interface to represent different underlying forms, making code more flexible and scalable."
   ]
  },
  {
   "cell_type": "code",
   "execution_count": null,
   "id": "7704446b-878e-4768-9445-ce7315118be7",
   "metadata": {},
   "outputs": [],
   "source": [
    "#8. How is encapsulation achieved in Python?"
   ]
  },
  {
   "cell_type": "code",
   "execution_count": null,
   "id": "5d074795-0965-4679-bfdc-905d916677a2",
   "metadata": {},
   "outputs": [],
   "source": [
    "#>>Encapsulation in Python is achieved by restricting direct access to an object's attributes and methods,\n",
    "ensuring controlled interaction through defined interfaces.\n",
    "It helps in data hiding, security, and modularity."
   ]
  },
  {
   "cell_type": "code",
   "execution_count": null,
   "id": "367f3965-9767-423a-8b02-7ffda98ec744",
   "metadata": {},
   "outputs": [],
   "source": [
    "Python uses access modifiers to control visibility:\n",
    "\n",
    "Public Members: Accessible from anywhere.\n",
    "\n",
    "Protected Members (_variable): Accessible within the class and subclasses.\n",
    "\n",
    "Private Members (__variable): Accessible only within the class."
   ]
  },
  {
   "cell_type": "code",
   "execution_count": 2,
   "id": "7db6a875-ae4d-40dd-ae8a-0e480ea07be1",
   "metadata": {},
   "outputs": [
    {
     "name": "stdout",
     "output_type": "stream",
     "text": [
      "Abhishek\n",
      "Savings\n",
      "Balance: 5000\n"
     ]
    }
   ],
   "source": [
    "class BankAccount:\n",
    "    def __init__(self, account_holder, balance):\n",
    "        self.account_holder = account_holder  # Public attribute\n",
    "        self._account_type = \"Savings\"  # Protected attribute\n",
    "        self.__balance = balance  # Private attribute\n",
    "\n",
    "    def deposit(self, amount):\n",
    "        self.__balance += amount\n",
    "        return f\"Deposited {amount}. New balance: {self.__balance}\"\n",
    "\n",
    "    def get_balance(self):\n",
    "        return f\"Balance: {self.__balance}\"\n",
    "\n",
    "# Creating an object\n",
    "account = BankAccount(\"Abhishek\", 5000)\n",
    "\n",
    "print(account.account_holder)  # Accessible (Public)\n",
    "print(account._account_type)  # Accessible (Protected, but not recommended)\n",
    "# print(account.__balance)  # Error! Private attribute\n",
    "\n",
    "print(account.get_balance())  # Accessing private data through a method\n"
   ]
  },
  {
   "cell_type": "code",
   "execution_count": null,
   "id": "000d5dc8-a834-4183-a364-af10d1768b3d",
   "metadata": {},
   "outputs": [],
   "source": [
    "#9.What is a constructor in Python?\n",
    "#> A constructor in Python is a special method used to initialize objects when they are created. It is defined using the __init__ method inside \n",
    "a class and allows you to set up attributes and perform any necessary setup."
   ]
  },
  {
   "cell_type": "code",
   "execution_count": null,
   "id": "ffd284dc-57b4-4e64-881b-c2be3ab03c99",
   "metadata": {},
   "outputs": [],
   "source": [
    "#10. What are class and static methods in Python?"
   ]
  },
  {
   "cell_type": "code",
   "execution_count": null,
   "id": "682a4a7e-4d94-40ea-a395-08db0980f65e",
   "metadata": {},
   "outputs": [],
   "source": [
    "#>Class methods and static methods in Python are special types of methods that help structure object-oriented code efficiently. \n",
    "They differ in how they interact with class instances and the class itself.\n",
    "\n",
    "\n",
    "\n",
    "#Class Methods (@classmethod)\n",
    "Defined using the @classmethod decorator.\n",
    "\n",
    "Takes cls as the first parameter, referring to the class itself.\n",
    "\n",
    "Can modify class-level attributes and work with class-related operations.\n",
    "\n",
    "\n",
    "    \n",
    "#>Static Methods (@staticmethod)\n",
    "Defined using the @staticmethod decorator.\n",
    "\n",
    "Does not take self or cls as parameters.\n",
    "\n",
    "Works like a regular function but is logically grouped within a class."
   ]
  },
  {
   "cell_type": "code",
   "execution_count": null,
   "id": "bc0fb28f-82e3-47b3-82a6-b9c530269727",
   "metadata": {},
   "outputs": [],
   "source": [
    "#11. What is method overloading in Python?"
   ]
  },
  {
   "cell_type": "code",
   "execution_count": null,
   "id": "86e77107-21ea-4c63-ad92-0257cccb0a25",
   "metadata": {},
   "outputs": [],
   "source": [
    "#>>Method overloading in Python refers to the ability to define multiple methods with the same name but different parameters.\n",
    "Unlike languages like Java or C++, Python does not support traditional method overloading directly. However, \n",
    "you can achieve similar behavior using default arguments or variable-length arguments.\n",
    "\n",
    "Ways to Simulate Method Overloading in Python\n",
    "    1. Using Default Arguments\n",
    "    2. Using Variable-Length Arguments (*args)\n",
    "    3. Using multipledispatch (Third-Party Library)"
   ]
  },
  {
   "cell_type": "code",
   "execution_count": 3,
   "id": "b81ab7a4-515b-422e-8377-fe4b4754dfce",
   "metadata": {},
   "outputs": [
    {
     "name": "stdout",
     "output_type": "stream",
     "text": [
      "5\n",
      "9\n",
      "5\n",
      "9\n",
      "30\n",
      "60\n"
     ]
    }
   ],
   "source": [
    "#1. Using Default Arguments.\n",
    "\n",
    "class MathOperations:\n",
    "    def add(self, a, b, c=0):  # Default value for 'c'\n",
    "        return a + b + c\n",
    "\n",
    "math = MathOperations()\n",
    "print(math.add(2, 3))      \n",
    "print(math.add(2, 3, 4))  \n",
    "\n",
    "\n",
    "\n",
    "#2. Using Variable-Length Arguments (*args)\n",
    "class MathOperations:\n",
    "    def add(self, a, b, c=0):  # Default value for 'c'\n",
    "        return a + b + c\n",
    "\n",
    "math = MathOperations()\n",
    "print(math.add(2, 3))     \n",
    "print(math.add(2, 3, 4)) \n",
    "\n",
    "#3. Using multipledispatch (Third-Party Library)\n",
    "\n",
    "from multipledispatch import dispatch\n",
    "\n",
    "class Example:\n",
    "    @dispatch(int, int)\n",
    "    def add(self, a, b):\n",
    "        return a + b\n",
    "\n",
    "    @dispatch(int, int, int)\n",
    "    def add(self, a, b, c):\n",
    "        return a + b + c\n",
    "\n",
    "obj = Example()\n",
    "print(obj.add(10, 20))      \n",
    "print(obj.add(10, 20, 30))  \n",
    "\n"
   ]
  },
  {
   "cell_type": "code",
   "execution_count": null,
   "id": "eda51e2e-6a9d-4372-800d-9a2328ce25c0",
   "metadata": {},
   "outputs": [],
   "source": [
    "#12.What is method overriding in OOP?\n",
    "#>>\n",
    "Method overriding is a key feature of polymorphism in Object-Oriented Programming (OOP).\n",
    "It allows a child class to provide a specific implementation of a method that is already defined in its parent class. \n",
    "This ensures that the child class can modify or extend the behavior of the inherited method."
   ]
  },
  {
   "cell_type": "code",
   "execution_count": 4,
   "id": "c0fe33d4-6175-42d9-a325-e19743b7d1da",
   "metadata": {},
   "outputs": [
    {
     "name": "stdout",
     "output_type": "stream",
     "text": [
      "I bark.\n",
      "I meow.\n",
      "I make a sound.\n"
     ]
    }
   ],
   "source": [
    "class Animal:\n",
    "    def speak(self):\n",
    "        return \"I make a sound.\"\n",
    "\n",
    "class Dog(Animal):\n",
    "    def speak(self):  # Overriding the method\n",
    "        return \"I bark.\"\n",
    "\n",
    "class Cat(Animal):\n",
    "    def speak(self):  # Overriding the method\n",
    "        return \"I meow.\"\n",
    "\n",
    "# Using method overriding\n",
    "animals = [Dog(), Cat(), Animal()]\n",
    "for animal in animals:\n",
    "    print(animal.speak())  \n",
    "\n"
   ]
  },
  {
   "cell_type": "code",
   "execution_count": null,
   "id": "872c6c31-b334-40dd-b523-07abfe71c7c7",
   "metadata": {},
   "outputs": [],
   "source": [
    "#13.What is a property decorator in Python?\n",
    "#>>The @property decorator in Python is used to define getter, setter, and deleter methods for a class attribute while maintaining a clean and intuitive syntax. \n",
    "It allows controlled access to private attributes without exposing them directly."
   ]
  },
  {
   "cell_type": "code",
   "execution_count": null,
   "id": "20bc3514-4bdf-482d-97c9-bbde482e91bd",
   "metadata": {},
   "outputs": [],
   "source": [
    "#14. Why is polymorphism important in OOP?\n",
    "#>>Polymorphism is crucial in Object-Oriented Programming (OOP) because it enhances flexibility, \n",
    "scalability, and maintainability in software design. It allows different classes to be treated as\n",
    "instances of a common superclass, enabling code reusability and dynamic behavior.\n",
    "\n",
    "Code Reusability: A single function can work with multiple types, reducing redundancy.\n",
    "\n",
    "Extensibility: New classes can be added without modifying existing code.\n",
    "\n",
    "Dynamic Behavior: Objects can be used interchangeably, making programs more adaptable.\n",
    "\n",
    "Simplified Code Structure: Reduces complexity by allowing a unified interface for different implementations."
   ]
  },
  {
   "cell_type": "code",
   "execution_count": null,
   "id": "7830d63c-6b47-4f4f-9c28-f025958eae53",
   "metadata": {},
   "outputs": [],
   "source": [
    "#15. What is an abstract class in Python?\n",
    "#>>An abstract class in Python is a class that cannot be instantiated directly and serves as a blueprint for other classes.\n",
    "It is used to define common behavior that subclasses must implement.\n",
    "Abstract classes typically contain abstract methods, \n",
    "which are methods declared but not implemented in the base class."
   ]
  },
  {
   "cell_type": "code",
   "execution_count": null,
   "id": "7157da35-ef00-49f9-9d74-b1f7f2c924f8",
   "metadata": {},
   "outputs": [],
   "source": [
    "#16. What are the advantages of OOP?\n",
    "\n",
    "\n",
    "##>\n",
    "1. Code Reusability\n",
    "OOP promotes inheritance, allowing child classes to reuse attributes and methods from parent classes.\n",
    "\n",
    "Reduces redundancy and improves efficiency.\n",
    "\n",
    "2. Modularity & Maintainability\n",
    "Encapsulation ensures that data and methods are grouped logically within objects.\n",
    "\n",
    "Changes in one part of the code do not affect other parts, making maintenance easier.\n",
    "\n",
    "3. Scalability & Extensibility\n",
    "Polymorphism allows different classes to share the same interface, making code adaptable.\n",
    "\n",
    "New features can be added without modifying existing code.\n",
    "\n",
    "4. Security & Data Protection\n",
    "Encapsulation restricts direct access to sensitive data, preventing unintended modifications.\n",
    "\n",
    "Private attributes and methods ensure controlled interaction with objects.\n",
    "\n",
    "5. Improved Code Organization\n",
    "Classes and objects provide a structured approach to programming.\n",
    "\n",
    "Code is easier to understand, debug, and collaborate on.\n",
    "\n",
    "6. Real-World Modeling\n",
    "OOP mirrors real-world entities, making software design more intuitive.\n",
    "\n",
    "Objects represent tangible concepts like users, transactions, or products."
   ]
  },
  {
   "cell_type": "code",
   "execution_count": null,
   "id": "7ccac490-6f9c-4a5f-842c-4f15a3a5ecaf",
   "metadata": {},
   "outputs": [],
   "source": [
    "#17. What is the difference between a class variable and an instance variable?\n",
    "\n",
    "#>>A class variable is shared among all instances of a class, \n",
    "meaning that if you change it in one instance, it affects all instances. \n",
    "It belongs to the class itself rather than any specific object.\n",
    "\n",
    "#>>An instance variable, on the other hand, is unique to each object.\n",
    "It is defined within a method (often inside __init__) and belongs exclusively to that particular instance."
   ]
  },
  {
   "cell_type": "code",
   "execution_count": null,
   "id": "7792d3f6-17a5-4dfc-b979-7bdc9665ea79",
   "metadata": {},
   "outputs": [],
   "source": [
    "#18. What is multiple inheritance in Python?"
   ]
  },
  {
   "cell_type": "code",
   "execution_count": null,
   "id": "94695bba-42a0-45d4-86b4-fffcf5f86b64",
   "metadata": {},
   "outputs": [],
   "source": [
    "#>>Multiple inheritance in Python is a feature that allows a class to inherit attributes\n",
    "and methods from more than one parent class. This means that a child class can acquire characteristics from \n",
    "multiple sources, making code more reusable and versatile."
   ]
  },
  {
   "cell_type": "code",
   "execution_count": null,
   "id": "fbd0b78f-8d41-4617-9d5c-01421daaa976",
   "metadata": {},
   "outputs": [],
   "source": [
    "#19.Explain the purpose of ‘’__str__’ and ‘__repr__’ ‘ methods in Python."
   ]
  },
  {
   "cell_type": "code",
   "execution_count": null,
   "id": "3ad9d9db-ba72-4cc0-a605-5b7c57cffa2f",
   "metadata": {},
   "outputs": [],
   "source": [
    "The __str__() and __repr__() methods in Python are special (dunder) methods used to control how objects \n",
    "are represented as strings.\n",
    "\n",
    "1. __repr__()\n",
    "Purpose: Provides an unambiguous string representation of an object, ideally useful for \n",
    "debugging or recreating the object.\n",
    "\n",
    "Usage: Developers use it when inspecting objects in the interactive shell.\n",
    "\n",
    "2. __str__()\n",
    "Purpose: Provides a user-friendly string representation of the object, typically for display purposes.\n",
    "\n",
    "Usage: Used when calling print() or str() on an object."
   ]
  },
  {
   "cell_type": "code",
   "execution_count": null,
   "id": "b729abdd-12f2-49bb-97b0-8092fd7bc8ba",
   "metadata": {},
   "outputs": [],
   "source": [
    "#20. What is the significance of the ‘super()’ function in Python?\n",
    "\n",
    "#>>The super() function in Python is used to call methods from a parent class, allowing for \n",
    "efficient inheritance and method resolution. \n",
    "It is particularly useful in object-oriented programming when working with inheritance."
   ]
  },
  {
   "cell_type": "code",
   "execution_count": null,
   "id": "5d8039f4-1548-452b-8e84-e5fcca420a76",
   "metadata": {},
   "outputs": [],
   "source": [
    "Key Benefits of super()\n",
    "Avoids Explicit Parent Class References\n",
    "\n",
    "Instead of calling ParentClass.method(self), you use super().method(), making code more maintainable.\n",
    "\n",
    "Supports Multiple Inheritance\n",
    "\n",
    "Helps resolve method calls in complex inheritance hierarchies using Method Resolution Order (MRO).\n",
    "\n",
    "Enhances Code Reusability\n",
    "\n",
    "Allows child classes to extend or modify parent class behavior without redundant code."
   ]
  },
  {
   "cell_type": "code",
   "execution_count": null,
   "id": "84410daf-58cc-4f18-9767-9e690282edd8",
   "metadata": {},
   "outputs": [],
   "source": [
    "#21. What is the significance of the __del__ method in Python?"
   ]
  },
  {
   "cell_type": "code",
   "execution_count": null,
   "id": "8a61bb43-faec-4c6d-b60a-aa9d5eb2b515",
   "metadata": {},
   "outputs": [],
   "source": [
    "#>>The __del__ method in Python is a special method known as a destructor. It is automatically called \n",
    "when an object is about to be destroyed, typically when it goes out of scope or is explicitly deleted using del.\n",
    "\n",
    "# >>Key Points About __del__\n",
    "\n",
    "Handles Cleanup Tasks\n",
    "\n",
    "Used to release resources like closing files, network connections, or freeing memory.\n",
    "\n",
    "Called During Garbage Collection\n",
    "\n",
    "Python's garbage collector invokes __del__ when an object is no longer referenced.\n",
    "\n",
    "Not Always Guaranteed to Run\n",
    "\n",
    "If an object is part of a circular reference, __del__ may not execute reliably."
   ]
  },
  {
   "cell_type": "code",
   "execution_count": null,
   "id": "1ff54851-cf0e-407c-8dc1-80ae97244ec7",
   "metadata": {},
   "outputs": [],
   "source": [
    "#22.What is the difference between @staticmethod and @classmethod in Python?"
   ]
  },
  {
   "cell_type": "code",
   "execution_count": null,
   "id": "a2ef2a7d-4e1d-4895-8a9c-e911b1b73a76",
   "metadata": {},
   "outputs": [],
   "source": [
    "\n",
    "Feature\t                                                          @staticmethod\t                                                                     @classmethod\n",
    "Bound to\t                     The class, but does not receive class or instance as the first argument\t                           The class itself, receiving the class (cls) as the first argument\n",
    "Access to instance attributes\t                                           No\t                                                                       No\n",
    "Access to class attributes                                             \t   No\t                                                                        Yes\n",
    "Use case\t                     Utility functions that logically belong to the class but don’t need instance or class data\t              Factory methods or methods that need access to class-level attributes"
   ]
  },
  {
   "cell_type": "code",
   "execution_count": null,
   "id": "6112329a-79d7-4331-9452-bbb047b7c6d2",
   "metadata": {},
   "outputs": [],
   "source": [
    "#23. How does polymorphism work in Python with inheritance?"
   ]
  },
  {
   "cell_type": "code",
   "execution_count": null,
   "id": "2451f8ae-c966-4568-b2fe-c38ecae6ac8a",
   "metadata": {},
   "outputs": [],
   "source": [
    "#Polymorphism in Python allows objects of different classes to be treated as objects of a common superclass, \n",
    "enabling flexibility and code reusability. When combined with inheritance,\n",
    "polymorphism ensures that child classes can override or extend the behavior of parent classes while \n",
    "maintaining a consistent interface."
   ]
  },
  {
   "cell_type": "code",
   "execution_count": null,
   "id": "c7f88468-4f81-4c49-a918-1adcc8ccf567",
   "metadata": {},
   "outputs": [],
   "source": [
    "#24.What is method chaining in Python OOP?"
   ]
  },
  {
   "cell_type": "code",
   "execution_count": null,
   "id": "8b2a9453-af11-4d82-953a-b46ac287e18b",
   "metadata": {},
   "outputs": [],
   "source": [
    "#Method chaining in Python is a technique where multiple method calls are linked together in a single statement. \n",
    "This approach enhances code readability and eliminates the need for intermediate variables.\n",
    "\n",
    "#Method Chaining Works\n",
    "Each method returns the object (self), allowing subsequent method calls on the same instance.\n",
    "\n",
    "It is commonly used in object-oriented programming (OOP) and libraries like pandas and Flask.\n",
    "                                                               "
   ]
  },
  {
   "cell_type": "code",
   "execution_count": null,
   "id": "517e2987-42ac-4901-90b1-8439efdd479d",
   "metadata": {},
   "outputs": [],
   "source": [
    "#25. What is the purpose of the __call__ method in Python?\n",
    "#The __call__ method in Python allows an instance of a class to be invoked like a function. \n",
    "When a class defines __call__, its objects become callable, meaning you can use parentheses () to execute \n",
    "them as if they were functions.\n",
    "\n",
    "#Key Uses of __call__\n",
    "Encapsulating Functionality in Objects\n",
    "\n",
    "Enables objects to behave like functions while maintaining state.\n",
    "\n",
    "Creating Stateful Callables\n",
    "\n",
    "Useful for caching results or tracking internal state across multiple calls.\n",
    "\n",
    "Implementing Class-Based Decorators\n",
    "\n",
    "Allows objects to modify the behavior of functions dynamically.\n"
   ]
  },
  {
   "cell_type": "code",
   "execution_count": null,
   "id": "84a6bd6a-0829-4bf8-9fd0-9f03285135a4",
   "metadata": {},
   "outputs": [],
   "source": [
    "                            ################Practical Questions########################"
   ]
  },
  {
   "cell_type": "code",
   "execution_count": null,
   "id": "19eb1c08-c056-4188-bd54-81244847918b",
   "metadata": {},
   "outputs": [],
   "source": [
    "# 1. Create a parent class Animal with a method speak() that prints a generic message. Create a child class Dog \n",
    "that overrides the speak() method to print \"Bark!\"."
   ]
  },
  {
   "cell_type": "code",
   "execution_count": 2,
   "id": "465125c2-ad6e-4581-a3e8-4bff340ad383",
   "metadata": {},
   "outputs": [
    {
     "name": "stdout",
     "output_type": "stream",
     "text": [
      "This animal makes a sound.\n",
      "Bark!\n"
     ]
    }
   ],
   "source": [
    "class Animal:\n",
    "    def speak(self):\n",
    "        print(\"This animal makes a sound.\")\n",
    "\n",
    "class Dog(Animal):\n",
    "    def speak(self):\n",
    "        print(\"Bark!\")\n",
    "\n",
    "# Creating instances\n",
    "generic_animal = Animal()\n",
    "dog = Dog()\n",
    "\n",
    "# Calling speak method\n",
    "generic_animal.speak()  \n",
    "dog.speak()    "
   ]
  },
  {
   "cell_type": "code",
   "execution_count": null,
   "id": "23072b17-ad02-41dd-b685-19dd768c9915",
   "metadata": {},
   "outputs": [],
   "source": [
    "# 2. Write a program to create an abstract class Shape with a method area(). Derive classes Circle and Rectangle \n",
    "from it and implement the area() method in both."
   ]
  },
  {
   "cell_type": "code",
   "execution_count": 3,
   "id": "bb4fd640-8bb0-4f35-af3e-ff674d57476e",
   "metadata": {},
   "outputs": [
    {
     "name": "stdout",
     "output_type": "stream",
     "text": [
      "Circle Area: 78.53999999999999\n",
      "Rectangle Area: 24\n"
     ]
    }
   ],
   "source": [
    "from abc import ABC, abstractmethod\n",
    "\n",
    "class Shape(ABC):  # Abstract class\n",
    "    @abstractmethod\n",
    "    def area(self):\n",
    "        pass  # Abstract method must be implemented by child classes\n",
    "\n",
    "class Circle(Shape):\n",
    "    def __init__(self, radius):\n",
    "        self.radius = radius\n",
    "\n",
    "    def area(self):\n",
    "        return 3.1416 * self.radius ** 2  # Implementing the area method\n",
    "\n",
    "class Rectangle(Shape):\n",
    "    def __init__(self, width, height):\n",
    "        self.width = width\n",
    "        self.height = height\n",
    "\n",
    "    def area(self):\n",
    "        return self.width * self.height  # Implementing the area method\n",
    "\n",
    "# Creating objects\n",
    "circle = Circle(5)\n",
    "rectangle = Rectangle(4, 6)\n",
    "\n",
    "print(f\"Circle Area: {circle.area()}\")    \n",
    "print(f\"Rectangle Area: {rectangle.area()}\") "
   ]
  },
  {
   "cell_type": "code",
   "execution_count": null,
   "id": "d6433b02-b273-44df-bcba-fc5da424893b",
   "metadata": {},
   "outputs": [],
   "source": [
    "# 3. Implement a multi-level inheritance scenario where a class Vehicle has an attribute type. Derive a class Car \n",
    "and further derive a class ElectricCar that adds a battery attribute."
   ]
  },
  {
   "cell_type": "code",
   "execution_count": 4,
   "id": "ef2ea28a-772f-44b2-8172-fa62704098d9",
   "metadata": {},
   "outputs": [
    {
     "name": "stdout",
     "output_type": "stream",
     "text": [
      "This is a Truck.\n",
      "This is a Car. It is a Toyota car.\n",
      "This is a Car. It is a Tesla car. It has a 75 kWh battery.\n"
     ]
    }
   ],
   "source": [
    "class Vehicle:\n",
    "    def __init__(self, vehicle_type):\n",
    "        self.vehicle_type = vehicle_type\n",
    "\n",
    "    def describe(self):\n",
    "        return f\"This is a {self.vehicle_type}.\"\n",
    "\n",
    "class Car(Vehicle):\n",
    "    def __init__(self, brand, vehicle_type=\"Car\"):\n",
    "        super().__init__(vehicle_type)  # Calling parent constructor\n",
    "        self.brand = brand\n",
    "\n",
    "    def describe(self):\n",
    "        return f\"{super().describe()} It is a {self.brand} car.\"\n",
    "\n",
    "class ElectricCar(Car):\n",
    "    def __init__(self, brand, battery_capacity):\n",
    "        super().__init__(brand)  # Calling Car's constructor\n",
    "        self.battery_capacity = battery_capacity\n",
    "\n",
    "    def describe(self):\n",
    "        return f\"{super().describe()} It has a {self.battery_capacity} kWh battery.\"\n",
    "\n",
    "# Creating instances\n",
    "vehicle = Vehicle(\"Truck\")\n",
    "car = Car(\"Toyota\")\n",
    "electric_car = ElectricCar(\"Tesla\", 75)\n",
    "\n",
    "print(vehicle.describe())       \n",
    "print(car.describe())           \n",
    "print(electric_car.describe())  "
   ]
  },
  {
   "cell_type": "code",
   "execution_count": null,
   "id": "e797ace1-6b97-4c65-8ea8-722a93a7d776",
   "metadata": {},
   "outputs": [],
   "source": [
    "#4. 4. Demonstrate polymorphism by creating a base class Bird with a method fly(). Create two derived classes \n",
    "Sparrow and Penguin that override the fly() method. "
   ]
  },
  {
   "cell_type": "code",
   "execution_count": 5,
   "id": "5169ea58-dbfc-450d-b83d-04220db45c46",
   "metadata": {},
   "outputs": [
    {
     "name": "stdout",
     "output_type": "stream",
     "text": [
      "Sparrow flies swiftly.\n",
      "Penguins cannot fly but swim gracefully.\n"
     ]
    }
   ],
   "source": [
    "class Bird:\n",
    "    def fly(self):\n",
    "        return \"Some birds can fly.\"\n",
    "\n",
    "class Sparrow(Bird):\n",
    "    def fly(self):\n",
    "        return \"Sparrow flies swiftly.\"\n",
    "\n",
    "class Penguin(Bird):\n",
    "    def fly(self):\n",
    "        return \"Penguins cannot fly but swim gracefully.\"\n",
    "\n",
    "# Creating instances of derived classes\n",
    "birds = [Sparrow(), Penguin()]\n",
    "\n",
    "for bird in birds:\n",
    "    print(bird.fly())  # Calls the overridden method in respective classes\n"
   ]
  },
  {
   "cell_type": "code",
   "execution_count": null,
   "id": "bc75592a-42d2-42af-a5af-081a9579584b",
   "metadata": {},
   "outputs": [],
   "source": [
    "#5. Write a program to demonstrate encapsulation by creating a class BankAccount with private attributes \n",
    "balance and methods to deposit, withdraw, and check balance."
   ]
  },
  {
   "cell_type": "code",
   "execution_count": 6,
   "id": "4beb59c2-960b-4665-b1d8-b5ca1257ed82",
   "metadata": {},
   "outputs": [
    {
     "name": "stdout",
     "output_type": "stream",
     "text": [
      "Deposited ₹1500. New balance: ₹6500\n",
      "Withdrawn ₹2000. Remaining balance: ₹4500\n",
      "Current balance: ₹4500\n"
     ]
    }
   ],
   "source": [
    "class BankAccount:\n",
    "    def __init__(self, initial_balance=0):\n",
    "        self.__balance = initial_balance  # Private attribute\n",
    "\n",
    "    def deposit(self, amount):\n",
    "        if amount > 0:\n",
    "            self.__balance += amount\n",
    "            return f\"Deposited ₹{amount}. New balance: ₹{self.__balance}\"\n",
    "        return \"Deposit amount must be positive.\"\n",
    "\n",
    "    def withdraw(self, amount):\n",
    "        if 0 < amount <= self.__balance:\n",
    "            self.__balance -= amount\n",
    "            return f\"Withdrawn ₹{amount}. Remaining balance: ₹{self.__balance}\"\n",
    "        return \"Insufficient balance or invalid amount.\"\n",
    "\n",
    "    def check_balance(self):\n",
    "        return f\"Current balance: ₹{self.__balance}\"\n",
    "\n",
    "# Creating an instance\n",
    "account = BankAccount(5000)\n",
    "print(account.deposit(1500))   \n",
    "print(account.withdraw(2000))  \n",
    "print(account.check_balance()) \n",
    "# Trying to access private attribute directly (not recommended)\n",
    "# print(account.__balance)  # AttributeError: 'BankAccount' object has no attribute '__balance'\n"
   ]
  },
  {
   "cell_type": "code",
   "execution_count": null,
   "id": "b42479a3-78fa-4adc-85de-f0efee68bc68",
   "metadata": {},
   "outputs": [],
   "source": [
    "# 6. Demonstrate runtime polymorphism using a method play() in a base class Instrument. Derive classes Guitar \n",
    "and Piano that implement their own version of play()."
   ]
  },
  {
   "cell_type": "code",
   "execution_count": 7,
   "id": "b9708b9a-7d45-4e9b-9371-5112aad5a3d2",
   "metadata": {},
   "outputs": [
    {
     "name": "stdout",
     "output_type": "stream",
     "text": [
      "Guitar plays soothing melodies.\n",
      "Piano produces harmonious tones.\n",
      "This instrument produces sound.\n"
     ]
    }
   ],
   "source": [
    "class Instrument:\n",
    "    def play(self):\n",
    "        return \"This instrument produces sound.\"\n",
    "\n",
    "class Guitar(Instrument):\n",
    "    def play(self):\n",
    "        return \"Guitar plays soothing melodies.\"\n",
    "\n",
    "class Piano(Instrument):\n",
    "    def play(self):\n",
    "        return \"Piano produces harmonious tones.\"\n",
    "\n",
    "# Using runtime polymorphism\n",
    "instruments = [Guitar(), Piano(), Instrument()]\n",
    "\n",
    "for instrument in instruments:\n",
    "    print(instrument.play())  # Calls overridden method in respective classes\n"
   ]
  },
  {
   "cell_type": "code",
   "execution_count": null,
   "id": "3c4dc843-9fc8-4fce-aec3-74ac5dc0dbd8",
   "metadata": {},
   "outputs": [],
   "source": [
    "# 7. Create a class MathOperations with a class method add_numbers() to add two numbers and a static \n",
    "method subtract_numbers() to subtract two numbers."
   ]
  },
  {
   "cell_type": "code",
   "execution_count": 8,
   "id": "1ce47e9a-a442-4234-ab85-288030e23b84",
   "metadata": {},
   "outputs": [
    {
     "name": "stdout",
     "output_type": "stream",
     "text": [
      "15\n",
      "5\n"
     ]
    }
   ],
   "source": [
    "class MathOperations:\n",
    "    @classmethod\n",
    "    def add_numbers(cls, x, y):\n",
    "        return x + y  # Class method that adds two numbers\n",
    "\n",
    "    @staticmethod\n",
    "    def subtract_numbers(x, y):\n",
    "        return x - y  # Static method that subtracts two numbers\n",
    "\n",
    "# Using class and static methods\n",
    "print(MathOperations.add_numbers(10, 5))   \n",
    "print(MathOperations.subtract_numbers(10, 5))  "
   ]
  },
  {
   "cell_type": "code",
   "execution_count": null,
   "id": "c4c84c4c-f616-4a75-8f21-36776a60bce8",
   "metadata": {},
   "outputs": [],
   "source": [
    "#8. Implement a class Person with a class method to count the total number of persons created."
   ]
  },
  {
   "cell_type": "code",
   "execution_count": 9,
   "id": "93a1dad3-0e95-43f8-a29c-61286839a8b3",
   "metadata": {},
   "outputs": [
    {
     "name": "stdout",
     "output_type": "stream",
     "text": [
      "Total persons created: 3\n"
     ]
    }
   ],
   "source": [
    "class Person:\n",
    "    count = 0  # Class variable to store total instances\n",
    "\n",
    "    def __init__(self, name):\n",
    "        self.name = name\n",
    "        Person.count += 1  # Increment counter when a new instance is created\n",
    "\n",
    "    @classmethod\n",
    "    def get_person_count(cls):\n",
    "        return f\"Total persons created: {cls.count}\"\n",
    "\n",
    "# Creating instances\n",
    "p1 = Person(\"Alice\")\n",
    "p2 = Person(\"Bob\")\n",
    "p3 = Person(\"Charlie\")\n",
    "\n",
    "# Checking total count using class method\n",
    "print(Person.get_person_count())  \n"
   ]
  },
  {
   "cell_type": "code",
   "execution_count": null,
   "id": "df1b1df3-dc96-4e2e-8435-2fc007f223ce",
   "metadata": {},
   "outputs": [],
   "source": [
    "# 9. Write a class Fraction with attributes numerator and denominator. Override the str method to display the \n",
    "fraction as \"numerator/denominator\"."
   ]
  },
  {
   "cell_type": "code",
   "execution_count": 10,
   "id": "dfe20f96-8b67-4db2-9ce6-21858431e267",
   "metadata": {},
   "outputs": [
    {
     "name": "stdout",
     "output_type": "stream",
     "text": [
      "3/5\n",
      "7/2\n"
     ]
    }
   ],
   "source": [
    "class Fraction:\n",
    "    def __init__(self, numerator, denominator):\n",
    "        if denominator == 0:\n",
    "            raise ValueError(\"Denominator cannot be zero\")\n",
    "        self.numerator = numerator\n",
    "        self.denominator = denominator\n",
    "\n",
    "    def __str__(self):\n",
    "        return f\"{self.numerator}/{self.denominator}\"\n",
    "\n",
    "# Creating instances\n",
    "fraction1 = Fraction(3, 5)\n",
    "fraction2 = Fraction(7, 2)\n",
    "\n",
    "print(fraction1)  \n",
    "print(fraction2)  \n"
   ]
  },
  {
   "cell_type": "code",
   "execution_count": null,
   "id": "c4559826-4d0e-45df-825f-676c2226059a",
   "metadata": {},
   "outputs": [],
   "source": [
    "# 10. Demonstrate operator overloading by creating a class Vector and overriding the add method to add two \n",
    "vectors."
   ]
  },
  {
   "cell_type": "code",
   "execution_count": 11,
   "id": "d5ca784d-788b-404b-8930-e3d9ba677c0d",
   "metadata": {},
   "outputs": [
    {
     "name": "stdout",
     "output_type": "stream",
     "text": [
      "Vector(6, 8)\n"
     ]
    }
   ],
   "source": [
    "class Vector:\n",
    "    def __init__(self, x, y):\n",
    "        self.x = x\n",
    "        self.y = y\n",
    "\n",
    "    def __add__(self, other):\n",
    "        return Vector(self.x + other.x, self.y + other.y)  # Adding corresponding components\n",
    "\n",
    "    def __str__(self):\n",
    "        return f\"Vector({self.x}, {self.y})\"\n",
    "\n",
    "# Creating two vectors\n",
    "v1 = Vector(2, 3)\n",
    "v2 = Vector(4, 5)\n",
    "\n",
    "# Adding two vectors using overloaded `+` operator\n",
    "result = v1 + v2\n",
    "print(result)  \n"
   ]
  },
  {
   "cell_type": "code",
   "execution_count": null,
   "id": "922a67ba-c073-4f47-8ead-2f3a9d594cdb",
   "metadata": {},
   "outputs": [],
   "source": [
    "#11. Create a class Person with attributes name and age. Add a method greet() that prints \"Hello, my name is \n",
    "{name} and I am {age} years old.\""
   ]
  },
  {
   "cell_type": "code",
   "execution_count": 12,
   "id": "eb1f8084-05e5-4a0b-8d62-96b9cbc1c18c",
   "metadata": {},
   "outputs": [
    {
     "name": "stdout",
     "output_type": "stream",
     "text": [
      "Hello, my name is Abhishek and I am 25 years old.\n"
     ]
    }
   ],
   "source": [
    "class Person:\n",
    "    def __init__(self, name, age):\n",
    "        self.name = name\n",
    "        self.age = age\n",
    "\n",
    "    def greet(self):\n",
    "        print(f\"Hello, my name is {self.name} and I am {self.age} years old.\")\n",
    "\n",
    "# Creating an instance\n",
    "person1 = Person(\"Abhishek\", 25)\n",
    "\n",
    "# Calling the greet method\n",
    "person1.greet()  \n"
   ]
  },
  {
   "cell_type": "code",
   "execution_count": null,
   "id": "b3f9ef0d-33f7-4fe2-b97f-30e9d198e9bb",
   "metadata": {},
   "outputs": [],
   "source": [
    "# 12. Implement a class Student with attributes name and grades. Create a method average_grade() to compute \n",
    "the average of the grades."
   ]
  },
  {
   "cell_type": "code",
   "execution_count": 13,
   "id": "fd27cb5f-f624-440b-8018-ccde5a81961c",
   "metadata": {},
   "outputs": [
    {
     "name": "stdout",
     "output_type": "stream",
     "text": [
      "Abhishek's average grade: 86.25\n"
     ]
    }
   ],
   "source": [
    "class Student:\n",
    "    def __init__(self, name, grades):\n",
    "        self.name = name\n",
    "        self.grades = grades  # List of grades\n",
    "\n",
    "    def average_grade(self):\n",
    "        return sum(self.grades) / len(self.grades) if self.grades else 0  # Avoid division by zero\n",
    "\n",
    "# Creating a student instance\n",
    "student1 = Student(\"Abhishek\", [85, 90, 78, 92])\n",
    "\n",
    "print(f\"{student1.name}'s average grade: {student1.average_grade():.2f}\")  "
   ]
  },
  {
   "cell_type": "code",
   "execution_count": null,
   "id": "f6398873-f8a4-410c-9870-5ea958e549fb",
   "metadata": {},
   "outputs": [],
   "source": [
    "# 13. Create a class Rectangle with methods set_dimensions() to set the dimensions and area() to calculate the \n",
    "area."
   ]
  },
  {
   "cell_type": "code",
   "execution_count": 14,
   "id": "276bf7b5-5bdc-462f-a95c-0dc2371f52eb",
   "metadata": {},
   "outputs": [
    {
     "name": "stdout",
     "output_type": "stream",
     "text": [
      "Rectangle Area: 50\n"
     ]
    }
   ],
   "source": [
    "class Rectangle:\n",
    "    def __init__(self, width=0, height=0):\n",
    "        self.width = width\n",
    "        self.height = height\n",
    "\n",
    "    def set_dimensions(self, width, height):\n",
    "        \"\"\"Sets the dimensions of the rectangle.\"\"\"\n",
    "        self.width = width\n",
    "        self.height = height\n",
    "\n",
    "    def area(self):\n",
    "        \"\"\"Calculates the area of the rectangle.\"\"\"\n",
    "        return self.width * self.height\n",
    "\n",
    "# Creating an instance and setting dimensions\n",
    "rect = Rectangle()\n",
    "rect.set_dimensions(5, 10)\n",
    "\n",
    "# Calculating area\n",
    "print(f\"Rectangle Area: {rect.area()}\")  "
   ]
  },
  {
   "cell_type": "code",
   "execution_count": null,
   "id": "42851d85-b853-49f0-ab41-740c4ef4629c",
   "metadata": {},
   "outputs": [],
   "source": [
    "# 14. Create a class Employee with a method calculate_salary() that computes the salary based on hours worked \n",
    "and hourly rate. Create a derived class Manager that adds a bonus to the salary."
   ]
  },
  {
   "cell_type": "code",
   "execution_count": 15,
   "id": "74a0323f-bd46-4528-9e29-978213e1faba",
   "metadata": {},
   "outputs": [
    {
     "name": "stdout",
     "output_type": "stream",
     "text": [
      "John's Salary: ₹2000\n",
      "Alice's Salary: ₹3000\n"
     ]
    }
   ],
   "source": [
    "class Employee:\n",
    "    def __init__(self, name, hours_worked, hourly_rate):\n",
    "        self.name = name\n",
    "        self.hours_worked = hours_worked\n",
    "        self.hourly_rate = hourly_rate\n",
    "\n",
    "    def calculate_salary(self):\n",
    "        return self.hours_worked * self.hourly_rate\n",
    "\n",
    "class Manager(Employee):\n",
    "    def __init__(self, name, hours_worked, hourly_rate, bonus):\n",
    "        super().__init__(name, hours_worked, hourly_rate)\n",
    "        self.bonus = bonus\n",
    "\n",
    "    def calculate_salary(self):\n",
    "        return super().calculate_salary() + self.bonus  # Base salary + bonus\n",
    "\n",
    "# Creating instances\n",
    "employee = Employee(\"John\", 40, 50)\n",
    "manager = Manager(\"Alice\", 40, 50, 1000)\n",
    "\n",
    "print(f\"{employee.name}'s Salary: ₹{employee.calculate_salary()}\")\n",
    "print(f\"{manager.name}'s Salary: ₹{manager.calculate_salary()}\")  "
   ]
  },
  {
   "cell_type": "code",
   "execution_count": null,
   "id": "709ff7d8-fe5d-4be4-a9d2-dbf33c9c33a7",
   "metadata": {},
   "outputs": [],
   "source": [
    "#15.Create a class Product with attributes name, price, and quantity. Implement a method total_price() that \n",
    "calculates the total price of the product."
   ]
  },
  {
   "cell_type": "code",
   "execution_count": 16,
   "id": "2d453118-f661-418b-8476-a54d809eae1f",
   "metadata": {},
   "outputs": [
    {
     "name": "stdout",
     "output_type": "stream",
     "text": [
      "Laptop Total Price: ₹100000\n"
     ]
    }
   ],
   "source": [
    "class Product:\n",
    "    def __init__(self, name, price, quantity):\n",
    "        self.name = name\n",
    "        self.price = price\n",
    "        self.quantity = quantity\n",
    "\n",
    "    def total_price(self):\n",
    "        \"\"\"Calculates the total price of the product based on quantity.\"\"\"\n",
    "        return self.price * self.quantity\n",
    "\n",
    "# Creating an instance of Product\n",
    "product1 = Product(\"Laptop\", 50000, 2)\n",
    "\n",
    "print(f\"{product1.name} Total Price: ₹{product1.total_price()}\")  "
   ]
  },
  {
   "cell_type": "code",
   "execution_count": null,
   "id": "250a0687-3a2d-4969-b617-998d14306951",
   "metadata": {},
   "outputs": [],
   "source": [
    "# 16. Create a class Animal with an abstract method sound(). Create two derived classes Cow and Sheep that \n",
    "implement the sound() method."
   ]
  },
  {
   "cell_type": "code",
   "execution_count": 17,
   "id": "46ac75c4-837d-4a4b-b7e8-882956af253f",
   "metadata": {},
   "outputs": [
    {
     "name": "stdout",
     "output_type": "stream",
     "text": [
      "Moo!\n",
      "Baa!\n"
     ]
    }
   ],
   "source": [
    "from abc import ABC, abstractmethod\n",
    "\n",
    "class Animal(ABC):  # Abstract class\n",
    "    @abstractmethod\n",
    "    def sound(self):\n",
    "        pass  # Abstract method must be implemented by child classes\n",
    "\n",
    "class Cow(Animal):\n",
    "    def sound(self):\n",
    "        return \"Moo!\"\n",
    "\n",
    "class Sheep(Animal):\n",
    "    def sound(self):\n",
    "        return \"Baa!\"\n",
    "\n",
    "# Creating instances\n",
    "cow = Cow()\n",
    "sheep = Sheep()\n",
    "\n",
    "print(cow.sound())   \n",
    "print(sheep.sound()) "
   ]
  },
  {
   "cell_type": "code",
   "execution_count": null,
   "id": "7d13d534-cc44-4d98-b2e0-2caf9578c6e2",
   "metadata": {},
   "outputs": [],
   "source": [
    "# 17. Create a class Book with attributes title, author, and year_published. Add a method get_book_info() that \n",
    "returns a formatted string with the book's details."
   ]
  },
  {
   "cell_type": "code",
   "execution_count": 18,
   "id": "0ebab378-4fc5-4bf5-8073-65d22053efd0",
   "metadata": {},
   "outputs": [
    {
     "name": "stdout",
     "output_type": "stream",
     "text": [
      "'The Great Gatsby' by F. Scott Fitzgerald, published in 1925\n"
     ]
    }
   ],
   "source": [
    "class Book:\n",
    "    def __init__(self, title, author, year_published):\n",
    "        self.title = title\n",
    "        self.author = author\n",
    "        self.year_published = year_published\n",
    "\n",
    "    def get_book_info(self):\n",
    "        \"\"\"Returns a formatted string with the book's details.\"\"\"\n",
    "        return f\"'{self.title}' by {self.author}, published in {self.year_published}\"\n",
    "\n",
    "# Creating a book instance\n",
    "book1 = Book(\"The Great Gatsby\", \"F. Scott Fitzgerald\", 1925)\n",
    "\n",
    "# Printing book details\n",
    "print(book1.get_book_info())  "
   ]
  },
  {
   "cell_type": "code",
   "execution_count": null,
   "id": "4ceabff1-b08d-44fe-a508-640f0f17c6e0",
   "metadata": {},
   "outputs": [],
   "source": [
    "# 18. Create a class House with attributes address and price. Create a derived class Mansion that adds an \n",
    "attribute number_of_rooms."
   ]
  },
  {
   "cell_type": "code",
   "execution_count": 19,
   "id": "b07a3a19-a66c-40e1-9658-84b15f1be731",
   "metadata": {},
   "outputs": [
    {
     "name": "stdout",
     "output_type": "stream",
     "text": [
      "House located at 123 Street, Delhi, priced at ₹5000000.\n",
      "House located at Luxury Villa, Mumbai, priced at ₹20000000. It has 10 rooms.\n"
     ]
    }
   ],
   "source": [
    "class House:\n",
    "    def __init__(self, address, price):\n",
    "        self.address = address\n",
    "        self.price = price\n",
    "\n",
    "    def describe(self):\n",
    "        return f\"House located at {self.address}, priced at ₹{self.price}.\"\n",
    "\n",
    "class Mansion(House):\n",
    "    def __init__(self, address, price, number_of_rooms):\n",
    "        super().__init__(address, price)  # Call parent constructor\n",
    "        self.number_of_rooms = number_of_rooms\n",
    "\n",
    "    def describe(self):\n",
    "        return f\"{super().describe()} It has {self.number_of_rooms} rooms.\"\n",
    "\n",
    "# Creating instances\n",
    "house = House(\"123 Street, Delhi\", 5000000)\n",
    "mansion = Mansion(\"Luxury Villa, Mumbai\", 20000000, 10)\n",
    "\n",
    "print(house.describe())   \n",
    "print(mansion.describe())  "
   ]
  },
  {
   "cell_type": "code",
   "execution_count": null,
   "id": "b75b97d4-1b33-4942-8b02-b3fba7721f0d",
   "metadata": {},
   "outputs": [],
   "source": []
  },
  {
   "cell_type": "code",
   "execution_count": null,
   "id": "d1669fe6-4d5e-4bae-b55b-004e098cd2f5",
   "metadata": {},
   "outputs": [],
   "source": []
  },
  {
   "cell_type": "code",
   "execution_count": null,
   "id": "b7a2daa1-7acb-4e63-8eed-302d9ac12c23",
   "metadata": {},
   "outputs": [],
   "source": []
  },
  {
   "cell_type": "code",
   "execution_count": null,
   "id": "3aad3b45-b06c-44ca-b828-e60a7b6f1d07",
   "metadata": {},
   "outputs": [],
   "source": []
  },
  {
   "cell_type": "code",
   "execution_count": null,
   "id": "b1afc694-da82-4d27-937f-d910efe8c566",
   "metadata": {},
   "outputs": [],
   "source": []
  },
  {
   "cell_type": "code",
   "execution_count": null,
   "id": "5b8bb2ca-218d-449a-bda7-bc2e29451aea",
   "metadata": {},
   "outputs": [],
   "source": []
  }
 ],
 "metadata": {
  "kernelspec": {
   "display_name": "Python 3 (ipykernel)",
   "language": "python",
   "name": "python3"
  },
  "language_info": {
   "codemirror_mode": {
    "name": "ipython",
    "version": 3
   },
   "file_extension": ".py",
   "mimetype": "text/x-python",
   "name": "python",
   "nbconvert_exporter": "python",
   "pygments_lexer": "ipython3",
   "version": "3.12.7"
  }
 },
 "nbformat": 4,
 "nbformat_minor": 5
}
