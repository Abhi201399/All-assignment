{
 "cells": [
  {
   "cell_type": "code",
   "execution_count": null,
   "id": "02a50149-7759-4909-a77f-56f8c78e7b7d",
   "metadata": {},
   "outputs": [],
   "source": [
    "#1.  What is a RESTful API?\n",
    "#A RESTful API (Representational State Transfer API) is a type of web service that follows REST\n",
    "principles to facilitate communication between systems over HTTP. It allows clients to request \n",
    "and manipulate resources using standard methods like GET, POST, PUT, and DELETE."
   ]
  },
  {
   "cell_type": "code",
   "execution_count": null,
   "id": "d49c1df0-76d6-440d-ab86-f04d611ae646",
   "metadata": {},
   "outputs": [],
   "source": [
    "#2.  Explain the concept of API specification.\n",
    "\n",
    "#Aspects of API Specification:\n",
    "Standardization: Ensures consistency in how APIs are designed and used.\n",
    "\n",
    "Data Exchange Rules: Defines request and response formats, including supported data types (e.g., JSON, XML).\n",
    "\n",
    "Endpoints & Methods: Specifies available API endpoints and HTTP methods (GET, POST, PUT, DELETE).\n",
    "\n",
    "Authentication & Security: Details authentication mechanisms like OAuth, API keys, or JWT tokens.\n",
    "\n",
    "Error Handling: Lists possible error codes and responses for different scenarios.\n",
    "\n",
    "Versioning: Helps manage API updates without breaking existing integrations."
   ]
  },
  {
   "cell_type": "code",
   "execution_count": null,
   "id": "9905b6a0-020f-4c0d-865b-2055d41122d5",
   "metadata": {},
   "outputs": [],
   "source": [
    "#3.  What is Flask, and why is it popular for building APIs?\n",
    "#Flask is a lightweight and flexible web framework for Python, often \n",
    "referred to as a micro-framework because it provides essential tools\n",
    "for web development without unnecessary complexity.\n",
    "\n",
    "#Flask Popular for Building APIs\n",
    "\n",
    "Minimalistic & Lightweight: Unlike Django, Flask doesn’t enforce a rigid structure, allowing developers to build APIs with only the necessary components.\n",
    "\n",
    "Easy to Learn & Use: Its simple syntax and intuitive routing make it beginner-friendly.\n",
    "\n",
    "Extensible: Developers can integrate Flask with various extensions like Flask-RESTful for API development.\n",
    "\n",
    "Built-in Development Server: Comes with a built-in debugger and development server for testing.\n",
    "\n",
    "Supports RESTful APIs: Flask is widely used for creating RESTful APIs due to its flexibility and ease of handling HTTP methods.\n",
    "\n",
    "Integration with Databases: Works seamlessly with SQLAlchemy and other database tools."
   ]
  },
  {
   "cell_type": "code",
   "execution_count": null,
   "id": "4048cb85-6e17-46c6-8f1f-7bd5166bb1c3",
   "metadata": {},
   "outputs": [],
   "source": [
    "#4. What is routing in Flask?\n",
    "#In Flask, routing refers to the process of mapping URLs to specific functions that handle\n",
    "requests. It allows developers to define how different URLs should be processed and what\n",
    "responses should be returned."
   ]
  },
  {
   "cell_type": "code",
   "execution_count": null,
   "id": "99cb8461-1aa6-4639-a7b4-9afcea28ee9c",
   "metadata": {},
   "outputs": [],
   "source": [
    "#5. How do you create a simple Flask application?"
   ]
  },
  {
   "cell_type": "code",
   "execution_count": null,
   "id": "e07b9a8b-42f1-4090-a024-4a264667b52c",
   "metadata": {},
   "outputs": [],
   "source": [
    "1. Install Flask\n",
    "First, install Flask using pip:\n",
    "\n",
    "bash\n",
    "pip install Flask\n",
    "2. Create a Python File\n",
    "Create a new Python file, e.g., app.py, and write the following code:\n",
    "\n",
    "python\n",
    "from flask import Flask\n",
    "\n",
    "app = Flask(__name__)\n",
    "\n",
    "@app.route('/')\n",
    "def home():\n",
    "    return \"Hello, Flask!\"\n",
    "\n",
    "if __name__ == '__main__':\n",
    "    app.run(debug=True)\n",
    "3. Run the Flask Application\n",
    "Execute the script:\n",
    "\n",
    "bash\n",
    "python app.py\n",
    "This will start a local development server, and you can access your Flask app by visiting http://127.0.0.1:5000/ in your browser.\n",
    "\n",
    "4. Expand Your Application\n",
    "You can add more routes, templates, and database connections to make your Flask app more dynamic."
   ]
  },
  {
   "cell_type": "code",
   "execution_count": null,
   "id": "f65342da-518e-4bff-8f3c-b48f617ba138",
   "metadata": {},
   "outputs": [],
   "source": [
    "#6.What are HTTP methods used in RESTful APIs?\n",
    "#In RESTful APIs, HTTP methods define the type of action performed on a resource. Here are the most commonly used methods:\n",
    "\n",
    "GET: Retrieves data from the server without modifying it.\n",
    "\n",
    "POST: Sends data to the server to create a new resource.\n",
    "\n",
    "PUT: Updates an existing resource or creates one if it doesn’t exist.\n",
    "\n",
    "PATCH: Partially updates an existing resource.\n",
    "\n",
    "DELETE: Removes a resource from the server.\n",
    "\n",
    "OPTIONS: Provides information about the communication options available for a resource.\n",
    "\n",
    "HEAD: Similar to GET but only retrieves headers, not the response body."
   ]
  },
  {
   "cell_type": "code",
   "execution_count": null,
   "id": "c0f62ae5-35e6-4894-adde-65d61738cade",
   "metadata": {},
   "outputs": [],
   "source": [
    "#7. What is the purpose of the @app.route() decorator in Flask?"
   ]
  },
  {
   "cell_type": "code",
   "execution_count": null,
   "id": "0251cfdc-a53c-49ab-a712-c71245763e20",
   "metadata": {},
   "outputs": [],
   "source": [
    "Purpose of @app.route()\n",
    "URL Mapping: Associates a function with a specific URL, allowing users to access different pages.\n",
    "\n",
    "Request Handling: Defines how the application responds to requests at a given route.\n",
    "\n",
    "Dynamic Routing: Supports variable paths like /user/<username>, where <username> is passed as an argument.\n",
    "\n",
    "HTTP Method Specification: Allows specifying methods like GET, POST, PUT, etc."
   ]
  },
  {
   "cell_type": "code",
   "execution_count": 1,
   "id": "fd444501-31e0-4d4f-8a18-8c24c11849e8",
   "metadata": {},
   "outputs": [
    {
     "name": "stdout",
     "output_type": "stream",
     "text": [
      " * Serving Flask app '__main__'\n",
      " * Debug mode: on\n"
     ]
    },
    {
     "name": "stderr",
     "output_type": "stream",
     "text": [
      "WARNING: This is a development server. Do not use it in a production deployment. Use a production WSGI server instead.\n",
      " * Running on http://127.0.0.1:5000\n",
      "Press CTRL+C to quit\n",
      " * Restarting with watchdog (windowsapi)\n"
     ]
    },
    {
     "ename": "SystemExit",
     "evalue": "1",
     "output_type": "error",
     "traceback": [
      "An exception has occurred, use %tb to see the full traceback.\n",
      "\u001b[1;31mSystemExit\u001b[0m\u001b[1;31m:\u001b[0m 1\n"
     ]
    },
    {
     "name": "stderr",
     "output_type": "stream",
     "text": [
      "C:\\ProgramData\\anaconda3\\Lib\\site-packages\\IPython\\core\\interactiveshell.py:3585: UserWarning: To exit: use 'exit', 'quit', or Ctrl-D.\n",
      "  warn(\"To exit: use 'exit', 'quit', or Ctrl-D.\", stacklevel=1)\n"
     ]
    }
   ],
   "source": [
    "from flask import Flask\n",
    "\n",
    "app = Flask(__name__)\n",
    "\n",
    "@app.route('/')\n",
    "def home():\n",
    "    return \"Welcome to Flask!\"\n",
    "\n",
    "@app.route('/user/<username>')\n",
    "def greet_user(username):\n",
    "    return f\"Hello, {username}!\"\n",
    "\n",
    "if __name__ == '__main__':\n",
    "    app.run(debug=True)\n"
   ]
  },
  {
   "cell_type": "code",
   "execution_count": null,
   "id": "338d7b28-751c-461c-ada7-2ec7aed8b8ad",
   "metadata": {},
   "outputs": [],
   "source": [
    "#8. What is the difference between GET and POST HTTP methods?\n",
    "# GET Method\n",
    "Used to retrieve data from a server.\n",
    "\n",
    "Parameters are appended to the URL, making them visible in the browser.\n",
    "\n",
    "Can be cached by browsers.\n",
    "\n",
    "Suitable for non-sensitive data since the request is exposed in the URL.\n",
    "\n",
    "Has length restrictions due to URL limitations.\n",
    "\n",
    "#POST Method\n",
    "Used to send data to the server to create or update a resource.\n",
    "\n",
    "Data is sent in the request body, making it more secure.\n",
    "\n",
    "Cannot be cached by browsers.\n",
    "\n",
    "Suitable for sensitive data like passwords or form submissions.\n",
    "\n",
    "No length restrictions, allowing large amounts of data to be sent."
   ]
  },
  {
   "cell_type": "code",
   "execution_count": null,
   "id": "a6aaec60-5a13-48ef-8069-f8c4a6c24e3e",
   "metadata": {},
   "outputs": [],
   "source": [
    "#9.How do you handle errors in Flask APIs?"
   ]
  },
  {
   "cell_type": "code",
   "execution_count": 2,
   "id": "cd5c3728-b6c7-4ceb-8a49-6f44ea1517e5",
   "metadata": {},
   "outputs": [
    {
     "name": "stdout",
     "output_type": "stream",
     "text": [
      " * Serving Flask app '__main__'\n",
      " * Debug mode: on\n"
     ]
    },
    {
     "name": "stderr",
     "output_type": "stream",
     "text": [
      "WARNING: This is a development server. Do not use it in a production deployment. Use a production WSGI server instead.\n",
      " * Running on http://127.0.0.1:5000\n",
      "Press CTRL+C to quit\n",
      " * Restarting with watchdog (windowsapi)\n"
     ]
    },
    {
     "ename": "SystemExit",
     "evalue": "1",
     "output_type": "error",
     "traceback": [
      "An exception has occurred, use %tb to see the full traceback.\n",
      "\u001b[1;31mSystemExit\u001b[0m\u001b[1;31m:\u001b[0m 1\n"
     ]
    }
   ],
   "source": [
    "#Using Error Handlers\n",
    "from flask import Flask, jsonify\n",
    "\n",
    "app = Flask(__name__)\n",
    "\n",
    "@app.errorhandler(404)\n",
    "def not_found(error):\n",
    "    return jsonify({\"error\": \"Resource not found\"}), 404\n",
    "\n",
    "@app.errorhandler(500)\n",
    "def server_error(error):\n",
    "    return jsonify({\"error\": \"Internal Server Error\"}), 500\n",
    "\n",
    "if __name__ == '__main__':\n",
    "    app.run(debug=True)\n"
   ]
  },
  {
   "cell_type": "code",
   "execution_count": null,
   "id": "af6e2b96-8197-4012-9e2d-ab35ad133fa7",
   "metadata": {},
   "outputs": [],
   "source": [
    "#10. How do you connect Flask to a SQL database?\n",
    "#To connect Flask to a SQL database, you typically use Flask-SQLAlchemy, which provides an easy-to-use ORM\n",
    "(Object Relational Mapper) for handling database interactions.\n",
    "\n",
    "\n",
    " Steps to Connect Flask to a SQL Database\n",
    "1. Install Flask-SQLAlchemy\n",
    "First, install Flask and Flask-SQLAlchemy using pip:\n",
    "\n",
    "bash\n",
    "pip install flask flask-sqlalchemy\n",
    "2. Set Up Flask and Configure the Database\n",
    "Create a app.py file and configure the database connection:\n",
    "\n",
    "python\n",
    "from flask import Flask\n",
    "from flask_sqlalchemy import SQLAlchemy\n",
    "\n",
    "app = Flask(__name__)\n",
    "\n",
    "# Configure SQLite database\n",
    "app.config['SQLALCHEMY_DATABASE_URI'] = 'sqlite:///site.db'\n",
    "app.config['SQLALCHEMY_TRACK_MODIFICATIONS'] = False  # Avoids a warning\n",
    "\n",
    "# Create SQLAlchemy instance\n",
    "db = SQLAlchemy(app)\n",
    "3. Define a Database Model\n",
    "Create a model to represent a table in the database:\n",
    "\n",
    "python\n",
    "class User(db.Model):\n",
    "    id = db.Column(db.Integer, primary_key=True)\n",
    "    username = db.Column(db.String(80), unique=True, nullable=False)\n",
    "    email = db.Column(db.String(120), unique=True, nullable=False)\n",
    "\n",
    "    def __repr__(self):\n",
    "        return f\"User('{self.username}', '{self.email}')\"\n",
    "4. Create the Database\n",
    "Run the following command to create the database:\n",
    "\n",
    "python\n",
    "with app.app_context():\n",
    "    db.create_all()  # Creates the database and tables\n",
    "5. Insert and Query Data\n",
    "You can add and retrieve data using SQLAlchemy:\n",
    "\n",
    "python\n",
    "# Adding a new user\n",
    "new_user = User(username=\"Abhishek\", email=\"abhishek@example.com\")\n",
    "db.session.add(new_user)\n",
    "db.session.commit()\n",
    "\n",
    "# Querying users\n",
    "users = User.query.all()\n",
    "print(users)"
   ]
  },
  {
   "cell_type": "code",
   "execution_count": null,
   "id": "9c55b7a8-6741-40c9-acbb-294990ebf9f8",
   "metadata": {},
   "outputs": [],
   "source": [
    "#11. What is the role of Flask-SQLAlchemy?\n",
    "\n",
    "#Roles of Flask-SQLAlchemy\n",
    "Simplifies Database Management: Provides an easy way to define and manipulate database models.\n",
    "\n",
    "Supports Multiple Databases: Works with SQLite, PostgreSQL, MySQL, and other relational databases.\n",
    "\n",
    "Enhances Security: Helps prevent SQL injection and other vulnerabilities.\n",
    "\n",
    "Provides ORM Capabilities: Allows developers to interact with databases using Python objects instead of SQL queries.\n",
    "\n",
    "Integrates Seamlessly with Flask: Offers built-in support for Flask applications, making database operations more efficient."
   ]
  },
  {
   "cell_type": "code",
   "execution_count": null,
   "id": "c446e9b3-f7ad-46c9-b9a6-c659a5a60492",
   "metadata": {},
   "outputs": [],
   "source": [
    "#12. What are Flask blueprints, and how are they useful?\n",
    "#Flask Blueprints are a way to organize a Flask application into modular components, making it easier to manage and scale. Instead of keeping all routes and logic in a single file, Blueprints allow developers to separate different features into distinct modules.\n",
    "#Use Flask Blueprints?\n",
    "Modular Structure: Helps break large applications into smaller, manageable parts.\n",
    "\n",
    "Code Reusability: Blueprints can be reused across multiple projects.\n",
    "\n",
    "Better Organization: Keeps related routes, templates, and static files grouped together.\n",
    "\n",
    "Easier Maintenance: Makes debugging and updating specific features simpler."
   ]
  },
  {
   "cell_type": "code",
   "execution_count": null,
   "id": "5f50e3ad-1228-4d07-a0a1-a518b4003a1f",
   "metadata": {},
   "outputs": [],
   "source": [
    "#13.What is the purpose of Flask's request object?\n",
    "#Purposes of Flask's Request Object\n",
    "Accessing Query Parameters: Retrieve data sent via the URL, e.g., request.args.get('param').\n",
    "\n",
    "Handling Form Data: Extract data from submitted forms using request.form.get('field_name').\n",
    "\n",
    "Reading JSON Data: Parse JSON payloads from requests using request.get_json().\n",
    "\n",
    "Managing Cookies: Access user session cookies via request.cookies.get('cookie_name').\n",
    "\n",
    "Handling File Uploads: Process uploaded files using request.files['file_name'].\n",
    "\n",
    "Checking Request Method: Determine if the request is GET, POST, etc., using request.method."
   ]
  },
  {
   "cell_type": "code",
   "execution_count": null,
   "id": "847a5517-f930-4bc8-8172-b09771b13753",
   "metadata": {},
   "outputs": [],
   "source": [
    "#14. How do you create a RESTful API endpoint using Flask?\n",
    "#Creating a RESTful API endpoint using Flask is straightforward! Here’s a step-by-step guide:\n",
    "\n",
    "1. Install Flask\n",
    "First, install Flask using pip:\n",
    "\n",
    "bash\n",
    "pip install Flask\n",
    "2. Create a Flask Application\n",
    "Create a new Python file, e.g., app.py, and set up Flask:\n",
    "\n",
    "python\n",
    "from flask import Flask, jsonify, request\n",
    "\n",
    "app = Flask(__name__)\n",
    "\n",
    "@app.route('/api/greet', methods=['GET'])\n",
    "def greet():\n",
    "    return jsonify({\"message\": \"Hello, Flask API!\"})\n",
    "\n",
    "if __name__ == '__main__':\n",
    "    app.run(debug=True)\n",
    "This defines a simple GET endpoint at /api/greet that returns a JSON response.\n",
    "\n",
    "3. Handling Different HTTP Methods\n",
    "You can extend the API to handle POST, PUT, DELETE requests:\n",
    "\n",
    "python\n",
    "@app.route('/api/user', methods=['POST'])\n",
    "def create_user():\n",
    "    data = request.get_json()\n",
    "    return jsonify({\"message\": \"User created\", \"data\": data}), 201\n",
    "This allows clients to send JSON data to create a user.\n",
    "\n",
    "4. Running the API\n",
    "Execute the script:\n",
    "\n",
    "bash\n",
    "python app.py\n",
    "Your API will be accessible at http://127.0.0.1:5000/api/greet.\n",
    "\n",
    "5. Testing the API\n",
    "Use Postman or curl to test:\n",
    "\n",
    "bash\n",
    "curl http://127.0.0.1:5000/api/greet"
   ]
  },
  {
   "cell_type": "code",
   "execution_count": null,
   "id": "a3bf94ef-79a7-4494-a3c2-d3f000a19c5a",
   "metadata": {},
   "outputs": [],
   "source": [
    "#15. What is the purpose of Flask's jsonify() function?\n",
    "#Purposes of jsonify()\n",
    "Automatic JSON Formatting: Converts Python dictionaries, lists, and other serializable objects into JSON format.\n",
    "\n",
    "Sets Correct Headers: Automatically sets the Content-Type to application/json, ensuring proper API responses.\n",
    "\n",
    "Simplifies API Development: Eliminates the need for manually using json.dumps() and setting response headers.\n",
    "\n",
    "Handles Complex Data: Supports nested dictionaries and lists, making it ideal for structured API responses."
   ]
  },
  {
   "cell_type": "code",
   "execution_count": null,
   "id": "128c279e-f349-4b0a-be08-f505c0de8764",
   "metadata": {},
   "outputs": [],
   "source": [
    "#16. Explain Flask’s url_for() function.\n",
    "#Flask's url_for() function is a URL helper that dynamically generates URLs for routes based on their function names. Instead of hardcoding URLs, url_for() ensures that links remain consistent even if the route structure changes.\n",
    "#Use url_for()?\n",
    "Avoids Hardcoding URLs: If a route changes, you don’t need to update every link manually.\n",
    "\n",
    "Handles Dynamic URLs: Supports variable paths like /user/<username>.\n",
    "\n",
    "Ensures Consistency: Generates absolute URLs, preventing broken links.\n",
    "\n",
    "Works in Templates: Used in Jinja2 templates for cleaner HTML.\n"
   ]
  },
  {
   "cell_type": "code",
   "execution_count": 3,
   "id": "40cfe88f-532d-49e9-b04a-263af76cf0a8",
   "metadata": {},
   "outputs": [
    {
     "name": "stdout",
     "output_type": "stream",
     "text": [
      "/\n",
      "/user/Abhishek\n"
     ]
    }
   ],
   "source": [
    "from flask import Flask, url_for\n",
    "\n",
    "app = Flask(__name__)\n",
    "\n",
    "@app.route('/')\n",
    "def home():\n",
    "    return \"Welcome to Flask!\"\n",
    "\n",
    "@app.route('/user/<username>')\n",
    "def profile(username):\n",
    "    return f\"Profile of {username}\"\n",
    "\n",
    "with app.test_request_context():\n",
    "    print(url_for('home'))  # Outputs: '/'\n",
    "    print(url_for('profile', username='Abhishek'))  # Outputs: '/user/Abhishek'\n"
   ]
  },
  {
   "cell_type": "code",
   "execution_count": null,
   "id": "e8029161-4ff0-4e52-9ddc-5a1869a4ed22",
   "metadata": {},
   "outputs": [],
   "source": [
    "#17.How does Flask handle static files (CSS, JavaScript, etc.)?\n",
    "#Flask provides a built-in way to serve static files like CSS, JavaScript, images, and other assets using the /static directory. Here's how it works:\n",
    "\n",
    "Static Folder: Flask automatically looks for a folder named static in your project directory. Any files placed inside this folder can be accessed via the /static/ route.\n",
    "\n",
    "Referencing Static Files: In your HTML templates, you can use Flask’s url_for() function to generate URLs for static files dynamically:"
   ]
  },
  {
   "cell_type": "code",
   "execution_count": 7,
   "id": "0faf3d2e-1bcc-44d4-a524-f06edca565dc",
   "metadata": {},
   "outputs": [],
   "source": [
    "from flask import Flask, send_from_directory\n",
    "\n",
    "app = Flask(__name__)\n",
    "\n",
    "@app.route('/custom_static/<path:filename>')\n",
    "def custom_static(filename):\n",
    "    return send_from_directory('static', filename)\n"
   ]
  },
  {
   "cell_type": "code",
   "execution_count": null,
   "id": "73361eba-2dc8-4b91-8b65-01ebc41f67bf",
   "metadata": {},
   "outputs": [],
   "source": [
    "#18.What is an API specification, and how does it help in building a Flask API?\n",
    "#An API specification is a structured document that defines how an API should behave, including its endpoints, request and response formats, authentication methods, and error handling. It serves as a blueprint for developers to build and interact with an API consistently.\n",
    "\n",
    "#It Helps in Building a Flask API:\n",
    "Standardization: Ensures that all API endpoints follow a consistent structure, making it easier for developers to understand and use.\n",
    "\n",
    "Documentation: Provides clear guidelines for API consumers, reducing confusion and improving usability.\n",
    "\n",
    "Automation: Tools like OpenAPI (formerly Swagger) can generate API documentation and client libraries automatically.\n",
    "\n",
    "Validation: Helps enforce data formats and request structures, reducing errors in API interactions.\n",
    "\n",
    "Interoperability: Allows different systems to communicate seamlessly by following a common specification."
   ]
  },
  {
   "cell_type": "code",
   "execution_count": null,
   "id": "5966dd4e-bd84-48f5-9ada-598e4c21008d",
   "metadata": {},
   "outputs": [],
   "source": [
    "#19. What are HTTP status codes, and why are they important in a Flask API?\n",
    "#HTTP status codes are standardized responses that indicate the outcome of an HTTP request. They help both clients and servers understand whether a request was successful, redirected, or encountered an error.\n",
    "#Importance in a Flask API\n",
    "Clear Communication: Helps clients understand the result of their request.\n",
    "\n",
    "Error Handling: Allows developers to define meaningful responses for failures.\n",
    "\n",
    "Standardization: Ensures consistency across different APIs.\n",
    "\n",
    "Debugging: Makes troubleshooting easier by identifying issues quickly."
   ]
  },
  {
   "cell_type": "code",
   "execution_count": 8,
   "id": "1762bb56-d0b9-4c44-ac28-0d1b436c8ad3",
   "metadata": {},
   "outputs": [],
   "source": [
    "#20. How do you handle POST requests in Flask?\n",
    "#1. Basic Handling of POST Requests\n",
    "#You define a route that accepts POST requests using the methods parameter:\n",
    "\n",
    "from flask import Flask, request, jsonify\n",
    "\n",
    "app = Flask(__name__)\n",
    "\n",
    "@app.route('/submit', methods=['POST'])\n",
    "def handle_post():\n",
    "    data = request.json  # Get JSON data from the request body\n",
    "    return jsonify({\"message\": \"Data received\", \"data\": data}), 201\n",
    "\n",
    "#2. Handling Form Data\n",
    "# If you're receiving form data (instead of JSON), use request.form:\n",
    "@app.route('/form_submit', methods=['POST'])\n",
    "def handle_form():\n",
    "    name = request.form.get('name')\n",
    "    email = request.form.get('email')\n",
    "    return jsonify({\"name\": name, \"email\": email}), 200"
   ]
  },
  {
   "cell_type": "code",
   "execution_count": null,
   "id": "f765d074-8a98-4d8c-80c0-3723b15f11c3",
   "metadata": {},
   "outputs": [],
   "source": [
    "#21. How would you secure a Flask API?\n",
    "#Securing a Flask API is crucial to protect sensitive data and prevent unauthorized access. Here are some key security measures:\n",
    "\n",
    "1. Authentication & Authorization\n",
    "Use JWT (JSON Web Tokens) for secure token-based authentication.\n",
    "\n",
    "Implement OAuth2 for third-party authentication (e.g., Google, Facebook).\n",
    "\n",
    "Use Flask-Security or Flask-Login for user authentication.\n",
    "\n",
    "2. HTTPS & Secure Headers\n",
    "Enforce HTTPS to encrypt data in transit.\n",
    "\n",
    "Use Flask-Talisman to set security headers like Content-Security-Policy and Strict-Transport-Security.\n",
    "\n",
    "3. Input Validation & Sanitization\n",
    "Validate user input to prevent SQL Injection and XSS attacks.\n",
    "\n",
    "Use Flask-WTF for form validation and bleach to sanitize input.\n",
    "\n",
    "4. Rate Limiting & Throttling\n",
    "Prevent abuse by limiting requests using Flask-Limiter.\n",
    "\n",
    "5. Secure API Endpoints\n",
    "Restrict access to sensitive endpoints using role-based access control (RBAC).\n",
    "\n",
    "Implement CORS (Cross-Origin Resource Sharing) properly to prevent unauthorized cross-site requests.\n",
    "\n",
    "6. Logging & Monitoring\n",
    "Enable Flask-Logging to track API activity.\n",
    "\n",
    "Use Flask-Sentry for real-time error monitoring.\n",
    "\n",
    "7. Secure Data Storage\n",
    "Hash passwords using bcrypt or Argon2.\n",
    "\n",
    "Store API keys securely using environment variables.\n",
    "\n"
   ]
  },
  {
   "cell_type": "code",
   "execution_count": null,
   "id": "79ce3644-08c8-4b73-aaa1-3f4283e3747a",
   "metadata": {},
   "outputs": [],
   "source": [
    "#22.What is the significance of the Flask-RESTful extension?\n",
    "#Benefits of Flask-RESTful\n",
    "Simplifies API Development – Provides a cleaner and more structured approach to defining API resources.\n",
    "\n",
    "Automatic Request Parsing – Built-in support for handling request arguments efficiently.\n",
    "\n",
    "Better Resource Management – Uses classes to define API resources, making code more modular.\n",
    "\n",
    "Response Formatting – Automatically formats responses in JSON, reducing manual processing.\n",
    "\n",
    "Integrated Error Handling – Provides built-in exception handling for common errors."
   ]
  },
  {
   "cell_type": "code",
   "execution_count": null,
   "id": "a17d52e2-e2e6-4c96-b96a-337f8af69f83",
   "metadata": {},
   "outputs": [],
   "source": [
    "#23. What is the role of Flask’s session object??\n",
    "#Roles of Flask’s Session Object\n",
    "User Authentication – Keeps track of logged-in users without requiring them to authenticate on every request.\n",
    "\n",
    "State Persistence – Stores temporary data like shopping cart items or user preferences.\n",
    "\n",
    "Security – Uses a secret key to sign session data, preventing tampering.\n",
    "\n",
    "Server-Side Storage – Can be configured to store session data in files, databases, or Redis using Flask-Session.\n",
    "\n",
    "Automatic Expiry – Sessions can be set to expire when the browser closes or after a specific duration."
   ]
  },
  {
   "cell_type": "code",
   "execution_count": null,
   "id": "7ab1a51e-ab69-4aad-b88b-d7256f492628",
   "metadata": {},
   "outputs": [],
   "source": [
    "           #####################practical question and answers#####################"
   ]
  },
  {
   "cell_type": "code",
   "execution_count": null,
   "id": "a96f120f-0925-4b41-aeb9-00e5670adfbb",
   "metadata": {},
   "outputs": [],
   "source": [
    "#1.How do you create a basic Flask application?\n",
    "from flask import Flask\n",
    "\n",
    "app = Flask(__name__)\n",
    "\n",
    "@app.route('/')\n",
    "def home():\n",
    "    return \"Hello, Flask!\"\n",
    "\n",
    "if __name__ == '__main__':\n",
    "    app.run(debug=True)\n"
   ]
  },
  {
   "cell_type": "code",
   "execution_count": 9,
   "id": "122ca0c2-e217-48f8-be29-87950c6cf180",
   "metadata": {},
   "outputs": [],
   "source": [
    "#2. How do you serve static files like images or CSS in Flask?\n",
    "from flask import Flask, send_from_directory\n",
    "\n",
    "app = Flask(__name__)\n",
    "\n",
    "@app.route('/custom_static/<path:filename>')\n",
    "def custom_static(filename):\n",
    "    return send_from_directory('static', filename)\n"
   ]
  },
  {
   "cell_type": "code",
   "execution_count": 10,
   "id": "35a009e6-fe50-43ec-9dd0-805370b9a401",
   "metadata": {},
   "outputs": [
    {
     "name": "stdout",
     "output_type": "stream",
     "text": [
      " * Serving Flask app '__main__'\n",
      " * Debug mode: on\n"
     ]
    },
    {
     "name": "stderr",
     "output_type": "stream",
     "text": [
      "WARNING: This is a development server. Do not use it in a production deployment. Use a production WSGI server instead.\n",
      " * Running on http://127.0.0.1:5000\n",
      "Press CTRL+C to quit\n",
      " * Restarting with watchdog (windowsapi)\n"
     ]
    },
    {
     "ename": "SystemExit",
     "evalue": "1",
     "output_type": "error",
     "traceback": [
      "An exception has occurred, use %tb to see the full traceback.\n",
      "\u001b[1;31mSystemExit\u001b[0m\u001b[1;31m:\u001b[0m 1\n"
     ]
    }
   ],
   "source": [
    "#3.How do you define different routes with different HTTP methods in Flask?\n",
    "from flask import Flask, request\n",
    "\n",
    "app = Flask(__name__)\n",
    "\n",
    "@app.route('/example', methods=['GET', 'POST'])\n",
    "def example():\n",
    "    if request.method == 'GET':\n",
    "        return \"This is a GET request\"\n",
    "    elif request.method == 'POST':\n",
    "        return \"This is a POST request\"\n",
    "\n",
    "@app.route('/update', methods=['PUT'])\n",
    "def update():\n",
    "    return \"This is a PUT request\"\n",
    "\n",
    "@app.route('/delete', methods=['DELETE'])\n",
    "def delete():\n",
    "    return \"This is a DELETE request\"\n",
    "\n",
    "if __name__ == '__main__':\n",
    "    app.run(debug=True)\n"
   ]
  },
  {
   "cell_type": "code",
   "execution_count": 11,
   "id": "55d5354f-45bc-4599-8e98-f5420e9d6d78",
   "metadata": {},
   "outputs": [
    {
     "name": "stdout",
     "output_type": "stream",
     "text": [
      " * Serving Flask app '__main__'\n",
      " * Debug mode: on\n"
     ]
    },
    {
     "name": "stderr",
     "output_type": "stream",
     "text": [
      "WARNING: This is a development server. Do not use it in a production deployment. Use a production WSGI server instead.\n",
      " * Running on http://127.0.0.1:5000\n",
      "Press CTRL+C to quit\n",
      " * Restarting with watchdog (windowsapi)\n"
     ]
    },
    {
     "ename": "SystemExit",
     "evalue": "1",
     "output_type": "error",
     "traceback": [
      "An exception has occurred, use %tb to see the full traceback.\n",
      "\u001b[1;31mSystemExit\u001b[0m\u001b[1;31m:\u001b[0m 1\n"
     ]
    }
   ],
   "source": [
    "#4. How do you render HTML templates in Flask?\n",
    "from flask import Flask, render_template\n",
    "\n",
    "app = Flask(__name__)\n",
    "\n",
    "@app.route('/')\n",
    "def index():\n",
    "    return render_template(\"index.html\")\n",
    "\n",
    "if __name__ == '__main__':\n",
    "    app.run(debug=True)\n"
   ]
  },
  {
   "cell_type": "code",
   "execution_count": null,
   "id": "5c7b9948-ccab-4dfc-abda-ba2a4d4b921f",
   "metadata": {},
   "outputs": [],
   "source": [
    "#5. How can you generate URLs for routes in Flask using url_for?\n",
    "from flask import Flask, url_for\n",
    "\n",
    "app = Flask(__name__)\n",
    "\n",
    "@app.route('/')\n",
    "def home():\n",
    "    return \"Welcome to Flask!\"\n",
    "\n",
    "@app.route('/user/<username>')\n",
    "def profile(username):\n",
    "    return f\"Profile of {username}\"\n",
    "\n",
    "with app.test_request_context():\n",
    "    print(url_for('home'))  # Outputs: '/'\n",
    "    print(url_for('profile', username='Abhishek'))  # Outputs: '/user/Abhishek'\n"
   ]
  },
  {
   "cell_type": "code",
   "execution_count": null,
   "id": "6bd6af51-2fc3-4048-b21a-f9bae7d2ea2f",
   "metadata": {},
   "outputs": [],
   "source": [
    "#6. How do you handle forms in Flask?\n",
    "from flask import Flask, request, render_template\n",
    "\n",
    "app = Flask(__name__)\n",
    "\n",
    "@app.route('/', methods=['GET', 'POST'])\n",
    "def form():\n",
    "    if request.method == 'POST':\n",
    "        name = request.form.get('name')\n",
    "        return f\"Hello, {name}!\"\n",
    "    return render_template('form.html')\n",
    "\n",
    "if __name__ == '__main__':\n",
    "    app.run(debug=True)\n"
   ]
  },
  {
   "cell_type": "code",
   "execution_count": null,
   "id": "eefd4dec-9141-4867-95be-1db4156f5a71",
   "metadata": {},
   "outputs": [],
   "source": [
    "#7. How can you validate form data in Flask?\n",
    "from flask import Flask, render_template, request\n",
    "from flask_wtf import FlaskForm\n",
    "from wtforms import StringField, EmailField, PasswordField, SubmitField\n",
    "from wtforms.validators import DataRequired, Email, Length\n",
    "\n",
    "app = Flask(__name__)\n",
    "app.secret_key = 'your_secret_key'\n",
    "\n",
    "class RegistrationForm(FlaskForm):\n",
    "    username = StringField('Username', validators=[DataRequired(), Length(min=4, max=25)])\n",
    "    email = EmailField('Email', validators=[DataRequired(), Email()])\n",
    "    password = PasswordField('Password', validators=[DataRequired(), Length(min=6)])\n",
    "    submit = SubmitField('Register')\n",
    "\n",
    "@app.route('/register', methods=['GET', 'POST'])\n",
    "def register():\n",
    "    form = RegistrationForm()\n",
    "    if form.validate_on_submit():\n",
    "        return f\"Welcome, {form.username.data}!\"\n",
    "    return render_template('register.html', form=form)\n",
    "\n",
    "if __name__ == '__main__':\n",
    "    app.run(debug=True)\n"
   ]
  },
  {
   "cell_type": "code",
   "execution_count": null,
   "id": "05e7c9f0-0111-42bf-bdbb-18471eec189c",
   "metadata": {},
   "outputs": [],
   "source": [
    "#8. How do you manage sessions in Flask?\n",
    "from flask import Flask, session\n",
    "\n",
    "app = Flask(__name__)\n",
    "app.secret_key = 'your_secret_key'  # Required for session security\n",
    "\n",
    "@app.route('/set_session')\n",
    "def set_session():\n",
    "    session['username'] = 'Abhishek'\n",
    "    return \"Session data set!\"\n",
    "\n",
    "@app.route('/get_session')\n",
    "def get_session():\n",
    "    return f\"Logged in as {session.get('username', 'Guest')}\"\n",
    "\n",
    "@app.route('/logout')\n",
    "def logout():\n",
    "    session.pop('username', None)\n",
    "    return \"Logged out!\"\n",
    "\n",
    "if __name__ == '__main__':\n",
    "    app.run(debug=True)\n"
   ]
  },
  {
   "cell_type": "code",
   "execution_count": null,
   "id": "6e01d605-5179-4a49-aa40-802266d37527",
   "metadata": {},
   "outputs": [],
   "source": [
    "#9. How do you redirect to a different route in Flask?\n",
    "from flask import Flask, redirect\n",
    "\n",
    "app = Flask(__name__)\n",
    "\n",
    "@app.route('/')\n",
    "def home():\n",
    "    return redirect('/welcome')\n",
    "\n",
    "@app.route('/welcome')\n",
    "def welcome():\n",
    "    return \"Welcome to Flask!\"\n",
    "\n",
    "if __name__ == '__main__':\n",
    "    app.run(debug=True)\n"
   ]
  },
  {
   "cell_type": "code",
   "execution_count": null,
   "id": "3a2170a2-69cf-4bd2-88cd-cfc91ecfde0b",
   "metadata": {},
   "outputs": [],
   "source": [
    "from flask import Flask, redirect, url_for\n",
    "\n",
    "app = Flask(__name__)\n",
    "\n",
    "@app.route('/admin')\n",
    "def admin():\n",
    "    return \"Admin Page\"\n",
    "\n",
    "@app.route('/user/<name>')\n",
    "def user(name):\n",
    "    return f\"Hello, {name}!\"\n",
    "\n",
    "@app.route('/login/<name>')\n",
    "def login(name):\n",
    "    if name == \"admin\":\n",
    "        return redirect(url_for('admin'))\n",
    "    else:\n",
    "        return redirect(url_for('user', name=name))\n",
    "\n",
    "if __name__ == '__main__':\n",
    "    app.run(debug=True)\n"
   ]
  },
  {
   "cell_type": "code",
   "execution_count": 12,
   "id": "b8316897-e417-4a67-96be-fbade8bf559c",
   "metadata": {},
   "outputs": [],
   "source": [
    "#10.How do you handle errors in Flask (e.g., 404)?\n",
    "from flask import Flask, render_template\n",
    "\n",
    "app = Flask(__name__)\n",
    "\n",
    "@app.errorhandler(404)\n",
    "def not_found(e):\n",
    "    return render_template(\"404.html\"), 404\n"
   ]
  },
  {
   "cell_type": "code",
   "execution_count": null,
   "id": "2b2bb30e-bd68-4d05-9cd7-26541b1399d0",
   "metadata": {},
   "outputs": [],
   "source": [
    "#11.How do you structure a Flask app using Blueprints?\n",
    "/flask_app\n",
    "│── /app\n",
    "│   │── /routes\n",
    "│   │   │── __init__.py\n",
    "│   │   │── user_routes.py\n",
    "│   │── __init__.py\n",
    "│── run.py\n",
    "\n",
    "\n",
    "from flask import Blueprint\n",
    "\n",
    "user_bp = Blueprint('user', __name__)\n",
    "\n",
    "@user_bp.route('/users')\n",
    "def get_users():\n",
    "    return {\"message\": \"List of users\"}\n"
   ]
  },
  {
   "cell_type": "code",
   "execution_count": null,
   "id": "cbbbe463-404e-47fc-b587-242a2d0c7c87",
   "metadata": {},
   "outputs": [],
   "source": [
    "#12. How do you define a custom Jinja filter in Flask?\n",
    "from flask import Flask\n",
    "\n",
    "app = Flask(__name__)\n",
    "\n",
    "@app.template_filter('reverse')\n",
    "def reverse_filter(s):\n",
    "    return s[::-1]  # Reverse a string\n",
    "\n",
    "@app.route('/')\n",
    "def index():\n",
    "    return f\"Reversed: {{ 'Flask' | reverse }}\"\n",
    "\n",
    "if __name__ == '__main__':\n",
    "    app.run(debug=True)\n"
   ]
  },
  {
   "cell_type": "code",
   "execution_count": null,
   "id": "32461b15-3287-4784-9a6e-19d020aa0674",
   "metadata": {},
   "outputs": [],
   "source": [
    "#13. How can you redirect with query parameters in Flask?\n",
    "from flask import Flask, redirect, url_for, request\n",
    "\n",
    "app = Flask(__name__)\n",
    "\n",
    "@app.route('/search')\n",
    "def search():\n",
    "    query = request.args.get('q', 'default')\n",
    "    return f\"Search results for: {query}\"\n",
    "\n",
    "@app.route('/redirect_example')\n",
    "def redirect_example():\n",
    "    return redirect(url_for('search', q='Flask'))\n",
    "\n",
    "if __name__ == '__main__':\n",
    "    app.run(debug=True)\n"
   ]
  },
  {
   "cell_type": "code",
   "execution_count": null,
   "id": "43a002a5-8e3a-4cb0-acb9-f988bf0cd433",
   "metadata": {},
   "outputs": [],
   "source": [
    "#14. How do you return JSON responses in Flask?\n",
    "from flask import Flask, jsonify\n",
    "\n",
    "app = Flask(__name__)\n",
    "\n",
    "@app.route('/data')\n",
    "def get_data():\n",
    "    return jsonify({\"message\": \"Hello, Flask!\", \"status\": \"success\"})\n",
    "\n",
    "if __name__ == '__main__':\n",
    "    app.run(debug=True)\n",
    "\n",
    "\n",
    "\n",
    "\n",
    "@app.route('/auto_json')\n",
    "def auto_json():\n",
    "    return {\"message\": \"This is auto-converted to JSON\"}\n"
   ]
  },
  {
   "cell_type": "code",
   "execution_count": null,
   "id": "2b752594-b4f7-44b5-bfba-53e68b3ac3cf",
   "metadata": {},
   "outputs": [],
   "source": [
    "#15.How do you capture URL parameters in Flask?\n",
    "\n",
    "from flask import Flask\n",
    "\n",
    "app = Flask(__name__)\n",
    "\n",
    "@app.route('/user/<username>')\n",
    "def profile(username):\n",
    "    return f\"Hello, {username}!\"\n",
    "\n",
    "if __name__ == '__main__':\n",
    "    app.run(debug=True)\n"
   ]
  },
  {
   "cell_type": "code",
   "execution_count": null,
   "id": "ba00c8b0-c7b6-454e-a5da-eb6f362866f7",
   "metadata": {},
   "outputs": [],
   "source": []
  },
  {
   "cell_type": "code",
   "execution_count": null,
   "id": "b3bb70bc-1f18-4d49-9c22-a13bece601c2",
   "metadata": {},
   "outputs": [],
   "source": []
  },
  {
   "cell_type": "code",
   "execution_count": null,
   "id": "2c32682b-c39a-474e-a839-5191c3235aa6",
   "metadata": {},
   "outputs": [],
   "source": []
  },
  {
   "cell_type": "code",
   "execution_count": null,
   "id": "4ddf9ca1-bcda-4cb7-be68-0d0026f9dda8",
   "metadata": {},
   "outputs": [],
   "source": []
  },
  {
   "cell_type": "code",
   "execution_count": null,
   "id": "007440a3-4de9-4ef9-9e56-aef9d3baf671",
   "metadata": {},
   "outputs": [],
   "source": []
  }
 ],
 "metadata": {
  "kernelspec": {
   "display_name": "Python 3 (ipykernel)",
   "language": "python",
   "name": "python3"
  },
  "language_info": {
   "codemirror_mode": {
    "name": "ipython",
    "version": 3
   },
   "file_extension": ".py",
   "mimetype": "text/x-python",
   "name": "python",
   "nbconvert_exporter": "python",
   "pygments_lexer": "ipython3",
   "version": "3.12.7"
  }
 },
 "nbformat": 4,
 "nbformat_minor": 5
}
